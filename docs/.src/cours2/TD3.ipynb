{
 "cells": [
  {
   "cell_type": "markdown",
   "metadata": {},
   "source": [
    "<!-- dom:TITLE: TD N°3 : Bibliothèques numpy et matplotlib -->\n",
    "# TD N°3 : Bibliothèques numpy et matplotlib\n",
    "<!-- dom:AUTHOR: Ahmed Ammar Email:ahmed.ammar@fst.utm.tn at Institut Préparatoire aux Études Scientifiques et Techniques, Université de Carthage. -->\n",
    "<!-- Author: -->  \n",
    "**Ahmed Ammar** (email: `ahmed.ammar@fst.utm.tn`), Institut Préparatoire aux Études Scientifiques et Techniques, Université de Carthage.\n",
    "\n",
    "Date: **Apr 9, 2021**\n",
    "\n",
    "Copyright 2021, Ahmed Ammar. Released under CC Attribution 4.0 license\n",
    "\n",
    "\n",
    "\n",
    "\n",
    "\n",
    "\n",
    "\n",
    "\n",
    "\n",
    "\n",
    "<!-- --- begin exercise --- -->\n",
    "\n",
    "## Exercise 1: Tracer une fonction\n",
    "\n",
    "Ecrivez un programme qui trace la fonction $g(y) = e^{-y} sin(4y)$ pour $y \\in [0, 4]$ en utilisant une ligne continue rouge. Utilisez 500 intervalles pour évaluer les points dans [0,4]. Stockez toutes les coordonnées et les valeurs dans des tableaux. Placez le texte des graduations sur les axes et utilisez le titre \"Onde sinusoïdale atténuée\".\n",
    "\n",
    "\n",
    "<!-- --- begin solution of exercise --- -->\n",
    "**Solution.**\n",
    "La programme qui trace la fonction $g(y)$ est:"
   ]
  },
  {
   "cell_type": "code",
   "execution_count": 1,
   "metadata": {
    "collapsed": false
   },
   "outputs": [],
   "source": [
    "%matplotlib inline\n",
    "\n",
    "# Importation\n",
    "import numpy as np\n",
    "import matplotlib.pyplot as plt\n",
    "\n",
    "def g(y):\n",
    "    return np.exp(-y)*np.sin(4*y)\n",
    "\n",
    "y = np.linspace(0, 4, 501)\n",
    "# définir un nouveau graphique\n",
    "plt.figure()\n",
    "# tracer la fonction g(y) avec ligne solide rouge\n",
    "plt.plot(y, g(y), 'r-')\n",
    "plt.xlabel('y'); plt.ylabel('g(y)')\n",
    "plt.title(u'Onde sinusoïdale atténuée')\n",
    " # sauvgarder le grahique (format PNG et PDF)\n",
    "plt.savefig(\"fig_ex1.png\"); plt.savefig(\"fig_ex1.pdf\")\n",
    "# Afficher le graphique\n",
    "plt.show()"
   ]
  },
  {
   "cell_type": "markdown",
   "metadata": {},
   "source": [
    "<!-- --- end solution of exercise --- -->\n",
    "\n",
    "<!-- --- end exercise --- -->\n",
    "\n",
    "\n",
    "\n",
    "\n",
    "<!-- --- begin exercise --- -->\n",
    "\n",
    "## Exercise 2: Tracer deux fonctions\n",
    "\n",
    "Comme Exercice 1, mais ajouter une courbe en pointillé noir pour la fonction $h(y) = e^{-\\frac{3}{2}y} sin(4y)$. Inclure une légende pour chaque courbe (avec les noms $g$ et $h$).\n",
    "\n",
    "\n",
    "<!-- --- begin solution of exercise --- -->\n",
    "**Solution.**\n",
    "La programme qui trace la fonction $g(y)$ avec une nouvelle fonction $h(y)$ est:"
   ]
  },
  {
   "cell_type": "code",
   "execution_count": 2,
   "metadata": {
    "collapsed": false
   },
   "outputs": [],
   "source": [
    "# Importation\n",
    "import numpy as np\n",
    "import matplotlib.pyplot as plt\n",
    "\n",
    "def g(y):\n",
    "    return np.exp(-y)*np.sin(4*y)\n",
    "\n",
    "def h(y):\n",
    "    return np.exp(-(3./2)*y)*np.sin(4*y)\n",
    "\n",
    "y = np.linspace(0, 4, 501)\n",
    "plt.figure()\n",
    "plt.plot(y, g(y), 'r-', y, h(y), 'k--')\n",
    "plt.xlabel('y'); plt.ylabel('g(y)')\n",
    "plt.title(u'Onde sinusoïdale atténuée')\n",
    "plt.legend(['g', 'h'])\n",
    "\n",
    "plt.savefig(\"fig_ex2.png\"); plt.savefig(\"fig_ex2.pdf\")\n",
    "plt.show()"
   ]
  },
  {
   "cell_type": "markdown",
   "metadata": {},
   "source": [
    "<!-- --- end solution of exercise --- -->\n",
    "\n",
    "\n",
    "<!-- ===== Exercise: Racines d’une équation du second degré ===== -->\n",
    "<!-- Dans l'\"application de l'exercice 4 dans TD N°2, nous avons montré la représentation graphique d'une équation du second degré $f(x)=0.83x^2+3.8x+2.48$ ainsi que ses racines réelles: -->\n",
    "<!--  -->\n",
    "<!-- FIGURE:[imgs/equation2deg, width=500 frac=0.7] -->\n",
    "<!-- Reproduire ce graphique en utilisant la fonction `EqSecondDegree(a,b,c)` du script Python `racines.py` pour déterminer les valeurs des racines x1 et x2 de l’équation $f(x)$. -->\n",
    "<!--  -->\n",
    "<!-- !bsol -->\n",
    "<!-- Le programme qui reproduit la figure en utilisant la fonction `EqSecondDegree()`: -->\n",
    "<!--  -->\n",
    "<!-- !bc pycod -->\n",
    "<!-- # Importation -->\n",
    "<!-- import numpy as np -->\n",
    "<!-- import matplotlib.pyplot as plt -->\n",
    "<!-- from racines import EqSecondDegree -->\n",
    "<!-- # NOTE: le module racines est le fichier racines.py -->\n",
    "<!-- # qu'on doit placer dans le répertoire de travail. -->\n",
    "<!--  -->\n",
    "<!-- def f(x): -->\n",
    "<!-- return 0.83 * x**2 + 3.8 * x + 2.48 -->\n",
    "<!-- x = np.linspace(-6, 1, 200) -->\n",
    "<!-- y = f(x) -->\n",
    "<!-- x1, x2 = EqSecondDegree(0.83, 3.8, 2.48) -->\n",
    "<!--  -->\n",
    "<!-- plt.figure(figsize=(7, 5), dpi=80) -->\n",
    "<!-- plt.plot(x, y, color=\"blue\", linewidth=3, linestyle=\"-\", alpha=.8) -->\n",
    "<!-- plt.scatter([x1,x2], [f(x1), f(x2)], 80, color='red') -->\n",
    "<!--  -->\n",
    "<!-- plt.annotate('x1= {:.2f}'.format(x1), -->\n",
    "<!-- xy=(x1, f(x1)), xycoords='data', -->\n",
    "<!-- xytext=(+10, +30), textcoords='offset points', fontsize=16, -->\n",
    "<!-- arrowprops=dict(arrowstyle=\"->\", connectionstyle=\"arc3,rad=.2\")) -->\n",
    "<!-- plt.annotate('x2= {:.2f}'.format(x2), -->\n",
    "<!-- xy=(x2, f(x2)), xycoords='data', -->\n",
    "<!-- xytext=(+40, +30), textcoords='offset points', fontsize=16, -->\n",
    "<!-- arrowprops=dict(arrowstyle=\"->\", connectionstyle=\"arc3,rad=.2\")) -->\n",
    "<!--  -->\n",
    "<!-- plt.suptitle(\"Racines d’une équation du second degré\", fontweight= 'bold') -->\n",
    "<!-- plt.title(r\"$f(x) = 0.83 * x^2 + 3.8 * x + 2.48$\",fontsize=14, color = 'b') -->\n",
    "<!--  -->\n",
    "<!-- plt.grid() -->\n",
    "<!-- plt.show() -->\n",
    "<!-- !ec -->\n",
    "<!-- !esol -->\n",
    "<!-- --- end exercise --- -->\n",
    "\n",
    "\n",
    "\n",
    "\n",
    "<!-- --- begin exercise --- -->\n",
    "\n",
    "## Exercise 3: Approximer une fonction par une somme de sinus\n",
    "\n",
    "Nous considérons la fonction constante par morceaux:"
   ]
  },
  {
   "cell_type": "markdown",
   "metadata": {},
   "source": [
    "<!-- Equation labels as ordinary links -->\n",
    "<div id=\"_auto1\"></div>\n",
    "\n",
    "$$\n",
    "\\begin{equation}\n",
    "f(t) = \\left\\lbrace\n",
    "\\begin{array}{ll}\n",
    "1, & 0 < t < T/2,\\\\\n",
    "0, & t = T/2,\\\\\n",
    "-1, & T/2 < t \\le T\n",
    "\\end{array}\\right.\n",
    "\\label{_auto1} \\tag{1}\n",
    "\\end{equation}\n",
    "$$"
   ]
  },
  {
   "cell_type": "markdown",
   "metadata": {},
   "source": [
    "On peut approcher f(t) par la somme:"
   ]
  },
  {
   "cell_type": "markdown",
   "metadata": {},
   "source": [
    "<!-- Equation labels as ordinary links -->\n",
    "<div id=\"_auto2\"></div>\n",
    "\n",
    "$$\n",
    "\\begin{equation}\n",
    "S(t;n) = {4\\over\\pi}\\sum_{i=1}^n {1\\over 2i-1}\n",
    "\\sin\\left( {2(2i-1)\\pi t\\over T}\\right)\n",
    "\\label{_auto2} \\tag{2}\n",
    "\\end{equation}\n",
    "$$"
   ]
  },
  {
   "cell_type": "markdown",
   "metadata": {},
   "source": [
    "On peut montrer que $S(t;n)\\rightarrow f(t)$ quand $n\\rightarrow\\infty$\n",
    "\n",
    "\n",
    "**a)**\n",
    "Ecrivez une fonction Python `S(t, n, T)` pour renvoyer la valeur de $S(t; n)$.\n",
    "\n",
    "\n",
    "<!-- --- begin solution of exercise --- -->\n",
    "**Solution.**\n",
    "La fonction Python `S(t, n, T)` est la suivante:"
   ]
  },
  {
   "cell_type": "code",
   "execution_count": 3,
   "metadata": {
    "collapsed": false
   },
   "outputs": [],
   "source": [
    "import numpy as np\n",
    "import matplotlib.pyplot as plt\n",
    "def S(t, n, T):\n",
    "    s = 0\n",
    "    for i in range(1, n+1):\n",
    "        A = 1/(2*i - 1)\n",
    "        B = 2*(2*i - 1)* (pi * t)\n",
    "        s +=  A * np.sin(B/T)\n",
    "\n",
    "    return s*4/np.pi"
   ]
  },
  {
   "cell_type": "markdown",
   "metadata": {},
   "source": [
    "<!-- --- end solution of exercise --- -->\n",
    "\n",
    "**b)**\n",
    "Ecrivez une fonction Python `f(t, T)` pour calculer $f(t)$.\n",
    "\n",
    "\n",
    "<!-- --- begin solution of exercise --- -->\n",
    "**Solution.**\n",
    "La fonction Python `f(t, T)` est la suivante:"
   ]
  },
  {
   "cell_type": "code",
   "execution_count": 4,
   "metadata": {
    "collapsed": false
   },
   "outputs": [],
   "source": [
    "def f(t, T):\n",
    "    if 0 < t < T/2:\n",
    "        return 1\n",
    "    elif t == T/2:\n",
    "        return 0\n",
    "    elif T/2 < t <= T:\n",
    "        return -1"
   ]
  },
  {
   "cell_type": "markdown",
   "metadata": {},
   "source": [
    "<!-- --- end solution of exercise --- -->\n",
    "\n",
    "**c)**\n",
    "Créer un tableau `t` à l'aide de la fonction `linspace`, du module `numpy`, pour `100` valeurs `t` uniformément espacés dans [0, T]. On prendra $T = 2 \\pi$.\n",
    "\n",
    "\n",
    "<!-- --- begin solution of exercise --- -->\n",
    "**Solution.**\n",
    "Le tableau de valeurs de $t$ pour $T = 2 \\pi$ est défini comme suit:"
   ]
  },
  {
   "cell_type": "code",
   "execution_count": 5,
   "metadata": {
    "collapsed": false
   },
   "outputs": [],
   "source": [
    "T = 2*np.pi\n",
    "t = np.linspace(0, T, 100)"
   ]
  },
  {
   "cell_type": "markdown",
   "metadata": {},
   "source": [
    "<!-- --- end solution of exercise --- -->\n",
    "\n",
    "**d)**\n",
    "Remplir une liste `F` par les valeurs de `f(ti,T)` avec $ti \\in t$. Transformer la liste `F` en un tableau (nous voulons avoir un tableau pour la fonction $f(t)$ avec $t \\in [0, T]$ et $T = 2\\pi$).\n",
    "\n",
    "\n",
    "<!-- --- begin solution of exercise --- -->\n",
    "**Solution.**\n",
    "Le code suivant nous permet d’avoir un tableau de $f(t)$:"
   ]
  },
  {
   "cell_type": "code",
   "execution_count": 6,
   "metadata": {
    "collapsed": false
   },
   "outputs": [],
   "source": [
    "F = []\n",
    "for ti in t:\n",
    "  F.append(f(ti,T))\n",
    "F = np.array(F)"
   ]
  },
  {
   "cell_type": "markdown",
   "metadata": {},
   "source": [
    "<!-- --- end solution of exercise --- -->\n",
    "\n",
    "**e)**\n",
    "Tracer $S(t; 1)$, $S(t; 3)$, $S(t; 20)$, $S(t; 200)$ et la fonction exacte $f(t)$ dans le même graphique. Le résultat devrait être similaire au graphique ci-dessous.\n",
    "\n",
    "<!-- dom:FIGURE: [imgs/fourier.png, width=500 frac=1] -->\n",
    "<!-- begin figure -->\n",
    "\n",
    "<p></p>\n",
    "<img src=\"imgs/fourier.png\" width=500>\n",
    "\n",
    "<!-- end figure -->\n",
    "\n",
    "\n",
    "\n",
    "<!-- --- begin solution of exercise --- -->\n",
    "**Solution.**\n",
    "Le programme qui donne le graphique est:"
   ]
  },
  {
   "cell_type": "code",
   "execution_count": 7,
   "metadata": {
    "collapsed": false
   },
   "outputs": [],
   "source": [
    "plt.plot(t, S(t, n=1, T=2*pi), 'k-.', label = \"S(t;1)\")\n",
    "plt.plot(t, S(t, n=3, T=2*pi), 'k:', label = \"S(t;3)\")\n",
    "plt.plot(t, S(t, n=20, T=2*pi), 'k:', label = \"S(t;20)\")\n",
    "plt.plot(t, S(t, n=200, T=2*pi), 'k--', label = \"S(t;200)\")\n",
    "plt.plot(t, F, 'k-', label = \"f(t)\")\n",
    "plt.title(u\"Approximation d’une fonction par sa série de Fourier\", fontweight='bold')\n",
    "plt.ylabel(\"f(t)/S(t;n)\")\n",
    "plt.xlabel(\"t\")\n",
    "plt.legend()"
   ]
  },
  {
   "cell_type": "markdown",
   "metadata": {},
   "source": [
    "<!-- --- end solution of exercise --- -->\n",
    "\n",
    "**f)**\n",
    "Quelle est la relation entre la qualité de l'approximation et le choix de la valeur de `n`?\n",
    "\n",
    "\n",
    "<!-- --- begin solution of exercise --- -->\n",
    "**Solution.**\n",
    "La qualité de l'approximation dépend de $n$. $S(t;n)\\rightarrow f(t)$ quand $n\\rightarrow\\infty$.\n",
    "\n",
    "<!-- --- end solution of exercise --- -->\n",
    "\n",
    "<!-- --- end exercise --- -->\n",
    "\n",
    "\n",
    "\n",
    "\n",
    "<!-- --- begin exercise --- -->\n",
    "\n",
    "## Exercise 4: Fonctions spéciales (intégrales de Fresnel et spirale de Cornu)\n",
    "\n",
    "Les intégrales de Fresnel ont été introduites par le physicien français Augustin Fresnel (1788-1827) lors de ses travaux sur les interférences lumineuses (voici un article intéressant à lire: [Fresnel, des Mathématiques en Lumière](http://www.mathouriste.eu/Fresnel/Fresnel.html)).\n",
    "\n",
    "Ces intégrales doivent être calculées numériquement à partir des développements en série des intégrales:\n",
    "\n",
    "$$\\int_{0}^{x} e^{-i\\frac{\\pi t^{2}}{2}} dt = \\int_{0}^{x} cos(t^2) dt -i \\int_{0}^{x} sin(t^2) dt= C(x) -i S(x)$$\n",
    "\n",
    "Les fonctions de Fresnel sont des fonctions spéciales, définies par:\n",
    "\n",
    "Pour $x \\geq \\sqrt{\\frac{8}{\\pi}}$"
   ]
  },
  {
   "cell_type": "markdown",
   "metadata": {},
   "source": [
    "$$\n",
    "\\begin{aligned}\n",
    "C(x) &= \\frac{1}{2} + \\cos\\left(\\frac{\\pi x^{2}}{2}\\right) gg1 + \\sin\\left(\\frac{\\pi x^{2}}{2}\\right) ff1\\\\\n",
    "S(x) &=  \\frac{1}{2} - \\cos\\left(\\frac{\\pi x^{2}}{2}\\right) ff1 + \\sin\\left(\\frac{\\pi x^{2}}{2}\\right) gg1\n",
    "\\end{aligned}\n",
    "$$"
   ]
  },
  {
   "cell_type": "markdown",
   "metadata": {},
   "source": [
    "et pour $0 \\leq x < \\sqrt{\\frac{8}{\\pi}}$"
   ]
  },
  {
   "cell_type": "markdown",
   "metadata": {},
   "source": [
    "$$\n",
    "\\begin{aligned}\n",
    "C(x) &= \\cos\\left(\\frac{\\pi x^{2}}{2}\\right) gg2 + \\sin\\left(\\frac{\\pi x^{2}}{2}\\right) ff2 \\\\\n",
    "S(x) &= - \\cos\\left(\\frac{\\pi x^{2}}{2}\\right) ff2 + \\sin\\left(\\frac{\\pi x^{2}}{2}\\right) gg2\n",
    "\\end{aligned}\n",
    "$$"
   ]
  },
  {
   "cell_type": "markdown",
   "metadata": {},
   "source": [
    "Où:"
   ]
  },
  {
   "cell_type": "markdown",
   "metadata": {},
   "source": [
    "$$\n",
    "\\begin{aligned}\n",
    "ff1 = \\sum\\limits_{n=0}^{11} \\frac{d_{n}}{x^{2n+1}}\\left(\\frac{8}{\\pi}\\right)^{n+1/2} & gg1 = \\sum\\limits_{n=0}^{11} \\frac{c_{n}}{x^{2n+1}}\\left(\\frac{8}{\\pi}\\right)^{n+1/2}\\\\\n",
    "ff2 = \\sum\\limits_{n=0}^{11} b_{n}x^{2n+1}\\left(\\frac{\\pi}{8}\\right)^{n+1/2} & gg2 = \\sum\\limits_{n=0}^{11} a_{n}x^{2n+1}\\left(\\frac{\\pi}{8}\\right)^{n+1/2}\n",
    "\\end{aligned}\n",
    "$$"
   ]
  },
  {
   "cell_type": "markdown",
   "metadata": {},
   "source": [
    "et $a_n$, $b_n$, $c_n$ et $d_n$ sont des coefficients tabulés  ([*J.Boersma Math Computation 14,380(1960)*](https://www.ams.org/journals/mcom/1960-14-072/S0025-5718-1960-0121973-3/S0025-5718-1960-0121973-3.pdf)) et donnés dans un fichier **coef.dat**:"
   ]
  },
  {
   "cell_type": "markdown",
   "metadata": {},
   "source": [
    "        #--------------------------------------------------\n",
    "        #    an            bn          cn           dn\n",
    "        #--------------------------------------------------\n",
    "        +1.595769140 -0.000000033 -0.000000000 +0.199471140\n",
    "        -0.000001702 +4.255387524 -0.024933975 +0.000000023\n",
    "        -6.808568854 -0.000092810 +0.000003936 -0.009351341\n",
    "        -0.000576361 -7.780020400 +0.005770956 +0.000023006\n",
    "        +6.920691902 -0.009520895 +0.000689892 +0.004851466\n",
    "        -0.016898657 +5.075161298 -0.009497136 +0.001903218\n",
    "        -3.050485660 -0.138341947 +0.011948809 -0.017122914\n",
    "        -0.075752419 -1.363729124 -0.006748873 +0.029064067\n",
    "        +0.850663781 -0.403349276 +0.000246420 -0.027928955\n",
    "        -0.025639041 +0.702222016 +0.002102967 +0.016497308\n",
    "        -0.150230960 -0.216195929 -0.001217930 -0.005598515\n",
    "        +0.034404779 +0.019547031 +0.000233939 +0.000838386\n"
   ]
  },
  {
   "cell_type": "markdown",
   "metadata": {},
   "source": [
    "Écrire un programme Python qui calcule les fonctions de Fresnel $C(x)$ et $S(x)$ ainsi que leurs représentations graphiques:\n",
    "\n",
    "\n",
    "**a)**\n",
    "Définir les fonctions `ff1(x)`, `gg1(x)`, `ff2(x)` et `gg2(x)`. Chaque fonction renvoie la valeur de la somme qui lui correspond.\n",
    "\n",
    "\n",
    "<!-- --- begin solution of exercise --- -->\n",
    "**Solution.**\n",
    "Les fonctions `ff1(x)`, `gg1(x)`, `ff2(x)` et `gg2(x)` sont les suivantes:"
   ]
  },
  {
   "cell_type": "code",
   "execution_count": 8,
   "metadata": {
    "collapsed": false
   },
   "outputs": [],
   "source": [
    "# Importation\n",
    "import numpy as np\n",
    "\n",
    "def ff1(x):\n",
    "    S = 0\n",
    "    for i in range(12):\n",
    "        fn = (8 / np.pi)**(i + 0.5) * dn[i]\n",
    "        S += fn * x**(-2 * i - 1)\n",
    "    return S\n",
    "\n",
    "def gg1(x):\n",
    "    S = 0\n",
    "    for i in range(12):\n",
    "        gn = (8 / np.pi)**(i + 0.5) * cn[i]\n",
    "        S += gn * x**(-2 * i - 1)\n",
    "    return S\n",
    "\n",
    "def ff2(x):\n",
    "    S = 0\n",
    "    for i in range(12):\n",
    "        fn = (np.pi / 8)**(i + 0.5) * bn[i]\n",
    "        S += fn * x**(2 * i + 1)\n",
    "    return S\n",
    "\n",
    "def gg2(x):\n",
    "\n",
    "    S = 0\n",
    "    for i in range(12):\n",
    "        gn = (np.pi/8)**(i + 0.5) * an[i]\n",
    "        S +=  gn * x**(2 * i + 1)\n",
    "    return S"
   ]
  },
  {
   "cell_type": "markdown",
   "metadata": {},
   "source": [
    "<!-- --- end solution of exercise --- -->\n",
    "\n",
    "**b)**\n",
    "Définir les fonctions Python `C(x)` et `S(x)` qui renvoient respectivement les listes, les valeurs de $C(x)$ et $S(x)$, `CF` et` SF` (en utilisant une boucle `for` pour remplir les listes par exemple).\n",
    "\n",
    "\n",
    "<!-- --- begin solution of exercise --- -->\n",
    "**Solution.**\n",
    "Les fonctions Python `C(x)` et `S(x)` sont les suivantes:"
   ]
  },
  {
   "cell_type": "code",
   "execution_count": 9,
   "metadata": {
    "collapsed": false
   },
   "outputs": [],
   "source": [
    "def C(x):\n",
    "    CF=[]\n",
    "    for i in range(len(x)):\n",
    "        if x[i] >= np.sqrt(8/np.pi):\n",
    "            cf=0.5 + np.cos((np.pi*x[i]**2)/2)*gg1(x[i]) + np.sin((np.pi*x[i]**2)/2)*ff1(x[i])\n",
    "            CF.append(cf)\n",
    "        elif 0 <= x[i] < np.sqrt(8/np.pi):\n",
    "            cf = np.cos((np.pi*x[i]**2)/2)*gg2(x[i]) + np.sin((np.pi*x[i]**2)/2)*ff2(x[i])\n",
    "            CF.append(cf)\n",
    "    return CF\n",
    "def S(x):\n",
    "    SF=[]\n",
    "    for i in range(len(x)):\n",
    "        if x[i] >= np.sqrt(8/np.pi):\n",
    "            sf = 0.5 - np.cos((np.pi*x[i]**2)/2)*ff1(x[i]) + np.sin((np.pi*x[i]**2)/2)*gg1(x[i])\n",
    "            SF.append(sf)\n",
    "        elif 0 <= x[i] < sqrt(8/np.pi):\n",
    "            sf = -np.cos((np.pi*x[i]**2)/2)*ff2(x[i]) + np.sin((np.pi*x[i]**2)/2)*gg2(x[i])\n",
    "            SF.append(sf)\n",
    "    return SF"
   ]
  },
  {
   "cell_type": "markdown",
   "metadata": {},
   "source": [
    "<!-- --- end solution of exercise --- -->\n",
    "\n",
    "**c)**\n",
    "Créer des tableaux `an`, `bn`, `cn` et `dn` à partir du fichier **coef.dat**.\n",
    "\n",
    "\n",
    "<!-- --- begin solution of exercise --- -->\n",
    "**Solution.**\n",
    "Les tableaux `an`, `bn`, `cn` et `dn` sont chargés  à partir du fichier **coef.dat** à l'aide del a fonction `numpy.loadtxt()`:"
   ]
  },
  {
   "cell_type": "code",
   "execution_count": 10,
   "metadata": {
    "collapsed": false
   },
   "outputs": [],
   "source": [
    "an, bn, cn, dn = np.loadtxt('coef.dat', comments='#', usecols=(0, 1, 2, 3), unpack=True)"
   ]
  },
  {
   "cell_type": "markdown",
   "metadata": {},
   "source": [
    "<!-- --- end solution of exercise --- -->\n",
    "\n",
    "**d)**\n",
    "Créer un tableau `x`. Utilisez 800 intervalles pour évaluer les points dans [0,10] (cas où $x \\geq 0$).\n",
    "\n",
    "\n",
    "<!-- --- begin solution of exercise --- -->\n",
    "**Solution.**\n",
    "Le tableau `x` s'écrit:"
   ]
  },
  {
   "cell_type": "code",
   "execution_count": 11,
   "metadata": {
    "collapsed": false
   },
   "outputs": [],
   "source": [
    "x = np.linspace(0,10, 500)"
   ]
  },
  {
   "cell_type": "markdown",
   "metadata": {},
   "source": [
    "<!-- --- end solution of exercise --- -->\n",
    "\n",
    "**e)**\n",
    "Transformer `C(x)` et `S(x)` en tableaux `numpy`, respectivement `CF` et `SF`.\n",
    "\n",
    "\n",
    "<!-- --- begin solution of exercise --- -->\n",
    "**Solution.**\n",
    "Les listes `C(x)` et `S(x)` sont transformés en tableaux `numpy` à l'aide de la fonction `numpy.array()`:"
   ]
  },
  {
   "cell_type": "code",
   "execution_count": 12,
   "metadata": {
    "collapsed": false
   },
   "outputs": [],
   "source": [
    "CF = np.array(C(x)); SF = np.array(S(x))"
   ]
  },
  {
   "cell_type": "markdown",
   "metadata": {},
   "source": [
    "<!-- --- end solution of exercise --- -->\n",
    "\n",
    "**f)**\n",
    "Tracer une grille de figures à 2 colonnes (voir Cours3: [Vues en grille](https://codetunisia.github.io/CoursSimNum/cours3/md/cours3.html#linstruction-subplot)) dont le graphique de gauche représente `CF` et `SF` en fonction de `x` et le graphique de droite représente une [clothoïde](https://fr.wikipedia.org/wiki/Clotho%C3%AFde) (ou spirale de Cornu, ou Spirale de Fresnel..)`SF` en fonction de `CF`.\n",
    "La sortie de ce programme devrait être comme suit:\n",
    "<!-- dom:FIGURE:[imgs/fresnel.png, width=600 frac=1] -->\n",
    "<!-- begin figure -->\n",
    "\n",
    "<p></p>\n",
    "<img src=\"imgs/fresnel.png\" width=600>\n",
    "\n",
    "<!-- end figure -->\n",
    "\n",
    "\n",
    "\n",
    "<!-- --- begin solution of exercise --- -->\n",
    "**Solution.**\n",
    "La représentation graphique des intégrales de Fresnel et du spirale de Cornu est donc:"
   ]
  },
  {
   "cell_type": "code",
   "execution_count": 13,
   "metadata": {
    "collapsed": false
   },
   "outputs": [],
   "source": [
    "plt.figure(figsize=(12,5))\n",
    "subplot(1,2,1)\n",
    "plt.plot(x, CF,'b', x, SF,'r', linewidth=2)\n",
    "plt.xlabel(\"x\", fontweight='bold'); plt.ylabel(\"C(x) / S(x)\", fontweight='bold')\n",
    "plt.title(u\"Intégrales de Fresnel\", fontsize=14, fontweight='bold')\n",
    "plt.legend([\"C(x)\",\"S(x)\"])\n",
    "subplot(1,2,2)\n",
    "plt.plot(CF, SF, linewidth = 2, color = 'k')\n",
    "plt.xlabel(\"C(x)\", fontweight='bold'); plt.ylabel(\"S(x)\", fontweight='bold')\n",
    "plt.title(\"Spirale de Cornu\", fontsize=14, fontweight='bold')\n",
    "\n",
    "plt.savefig(\"fresnel.png\")\n",
    "plt.show()"
   ]
  },
  {
   "cell_type": "markdown",
   "metadata": {},
   "source": [
    "<!-- --- end solution of exercise --- -->\n",
    "\n",
    "<!-- --- end exercise --- -->"
   ]
  }
 ],
 "metadata": {},
 "nbformat": 4,
 "nbformat_minor": 4
}
