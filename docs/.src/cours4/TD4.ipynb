{
 "cells": [
  {
   "cell_type": "markdown",
   "metadata": {},
   "source": [
    "<!-- dom:TITLE: TD N°4 : Intégration numérique -->\n",
    "# TD N°4 : Intégration numérique\n",
    "<!-- dom:AUTHOR: Ahmed Ammar Email:ahmed.ammar@fst.utm.tn at Institut Préparatoire aux Études Scientifiques et Techniques, Université de Carthage. -->\n",
    "<!-- Author: -->  \n",
    "**Ahmed Ammar** (email: `ahmed.ammar@fst.utm.tn`), Institut Préparatoire aux Études Scientifiques et Techniques, Université de Carthage.\n",
    "\n",
    "Date: **Apr 14, 2021**\n",
    "\n",
    "Copyright 2021, Ahmed Ammar. Released under CC Attribution 4.0 license\n",
    "\n",
    "\n",
    "## Exercice 1: Vitesse d'une fusée\n",
    "\n",
    "On lance une fusée verticalement du sol et l’on mesure pendant les premières 80 secondes l'accélération $\\gamma$:\n",
    "\n",
    "<table border=\"1\">\n",
    "<thead>\n",
    "<tr><th align=\"left\">         t[s]        </th> <th align=\"center\">0 </th> <th align=\"center\">  10 </th> <th align=\"center\">  20 </th> <th align=\"center\">  30 </th> <th align=\"center\">  40 </th> <th align=\"center\">  50 </th> <th align=\"center\">  60 </th> <th align=\"center\">  70 </th> <th align=\"center\">  80 </th> </tr>\n",
    "</thead>\n",
    "<tbody>\n",
    "<tr><td align=\"left\">   $\\gamma$ [m $s^{-2}$]    </td> <td align=\"center\">   30    </td> <td align=\"center\">   31.63    </td> <td align=\"center\">   33.44    </td> <td align=\"center\">   35.47    </td> <td align=\"center\">   37.75    </td> <td align=\"center\">   40.33    </td> <td align=\"center\">   43.29    </td> <td align=\"center\">   46.70    </td> <td align=\"center\">   50.67    </td> </tr>\n",
    "</tbody>\n",
    "</table>\n",
    "<!-- dom:FIGURE:[imgs/SpaceX-Starship.jpg, width=400 frac=0.7] -->\n",
    "<!-- begin figure -->\n",
    "\n",
    "<p></p>\n",
    "<img src=\"imgs/SpaceX-Starship.jpg\" width=400>\n",
    "\n",
    "<!-- end figure -->\n",
    "\n",
    "\n",
    "\n",
    "Calculer la vitesse $V$ de la fusée à l’instant $t=80 \\ s$, par la méthode des trapèzes.\n",
    "\n",
    "\n",
    "## Exercice 2: Orbitales atomiques\n",
    "\n",
    "Pour décrire la trajectoire d'un électron autour d'un noyau, une description probabiliste est adoptée : l'électron n'est plus caractérisé par ses coordonnées spatiales mais par sa *probabilité de présence* en un point de l'espace.\n",
    "\n",
    "Pour simplifier le problème, on considérera que cette probabilité de présence ne dépend que de la variable $r$, distance entre l'électron et le centre du noyau. Pour une orbitale $1s$, la probabilité de trouver l'électron entre les rayons $r_1$ et $r_2$ s'écrit :"
   ]
  },
  {
   "cell_type": "markdown",
   "metadata": {},
   "source": [
    "$$\n",
    "\\begin{align*}\n",
    "P_{s1} = \\int_{r_1}^{r_2} \\underbrace{4 \\times \\frac{r^2}{a_0^3} \\times e^{-2 \\times \\frac{r}{a_0}}}_\\text{densité radiale} dr\n",
    "\\end{align*}\n",
    "$$"
   ]
  },
  {
   "cell_type": "markdown",
   "metadata": {},
   "source": [
    "avec $a_0 = 0.529$ $A^{\\circ}$, appelé le rayon de Bohr.\n",
    "\n",
    "La densité radiale, représentée dans la [figure](#fig:D_rad), est maximale pour $r = a_0$. Ce rayon qui maximise la densité radiale est appelé le *rayon orbitalaire*.\n",
    "\n",
    "**À noter.**\n",
    "\n",
    "Dans ce problème, les distances seront conservées en Angström.\n",
    "\n",
    "\n",
    "\n",
    "<!-- dom:FIGURE:[imgs/densite_radiale.png, width=400 frac=0.7] Densité radiale pour une orbitale atomique 1s. <div id=\"fig:D_rad\"></div> -->\n",
    "<!-- begin figure -->\n",
    "<div id=\"fig:D_rad\"></div>\n",
    "\n",
    "<p>Densité radiale pour une orbitale atomique 1s.</p>\n",
    "<img src=\"imgs/densite_radiale.png\" width=400>\n",
    "\n",
    "<!-- end figure -->\n",
    "\n",
    "\n",
    "\n",
    "**a)**\n",
    "Définir une fonction `densite_radiale()`, définie entre $0$ et $\\infty$ qui prend comme paramètre variable un rayon $r$ et comme paramètre par défaut $a_0 = 0.529$ $A^{\\circ}$ et renvoie la valeur $4 \\times \\frac{r^2}{a_0^3} \\times e^{-2 \\times \\frac{r}{a_0}}$.\n",
    "\n",
    "**b)**\n",
    "Tracer la densité radiale pour $r \\in [0, 2.6] \\quad A^{\\circ}$, afin d'obtenir le même graphique sur la [figure](#fig:D_rad).\n",
    "\n",
    "**c)**\n",
    "On souhaite déterminer la probabilité de présence de l'électron entre $0$ et $a_0$. Évaluer cette probabilité à l'aide de $100$ rectangles. On pourra vérifier que la réponse obtenue est proche de $0.32$.\n",
    "\n",
    "**d)**\n",
    "Déterminer le nombre entier $n$, tel que l'électron ait une probabilité supérieure ou égale à $90 \\%$ de se trouver entre $0$ et $n*a_0$.\n",
    "\n",
    "**e)**\n",
    "On souhaite désormais évaluer la probabilité de trouver l'électron proche du rayon de Bohr, c'est-à-dire entre $0.9*a_0$ et $1.1*a_0$. Évaluer cette probabilité à l'aide de 100 rectangles.\n",
    "\n",
    "**f)**\n",
    "D'après la valeur obtenue à la question précédente, que penser de la description des trajectoires des électrons par orbite autour du noyau ?\n",
    "\n",
    "**À noter.**\n",
    "\n",
    "On répondra en commentaire dans le programme.\n",
    "\n"
   ]
  },
  {
   "cell_type": "code",
   "execution_count": null,
   "metadata": {},
   "outputs": [],
   "source": []
  }
 ],
 "metadata": {
  "kernelspec": {
   "display_name": "Python 3",
   "language": "python",
   "name": "python3"
  },
  "language_info": {
   "codemirror_mode": {
    "name": "ipython",
    "version": 3
   },
   "file_extension": ".py",
   "mimetype": "text/x-python",
   "name": "python",
   "nbconvert_exporter": "python",
   "pygments_lexer": "ipython3",
   "version": "3.7.6"
  }
 },
 "nbformat": 4,
 "nbformat_minor": 4
}
