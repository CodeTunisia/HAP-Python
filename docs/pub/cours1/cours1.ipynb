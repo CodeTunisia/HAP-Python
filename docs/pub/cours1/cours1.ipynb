{
 "cells": [
  {
   "cell_type": "markdown",
   "metadata": {},
   "source": [
    "<!-- dom:TITLE: Les bases de la programmation avec Python -->\n",
    "# Les bases de la programmation avec Python\n",
    "<!-- dom:AUTHOR: Ahmed Ammar Email:ahmed.ammar@fst.utm.tn at Institut Préparatoire aux Études Scientifiques et Techniques, Université de Carthage. -->\n",
    "<!-- Author: -->  \n",
    "**Ahmed Ammar** (email: `ahmed.ammar@fst.utm.tn`), Institut Préparatoire aux Études Scientifiques et Techniques, Université de Carthage.\n",
    "\n",
    "\n",
    "Date: **Sep 17, 2020**\n",
    "\n",
    "Copyright 2020, Ahmed Ammar. GPL3\n",
    "\n",
    "\n",
    "\n",
    "\n",
    "\n",
    "\n",
    "\n",
    "\n",
    "# C’est quoi Python?\n",
    "Le langage de programmation Python (<http://www.python.org/>) a été créé en 1989 par Guido van Rossum, aux Pays-Bas. La première version publique de ce langage a été publiée en 1991.\n",
    "\n",
    "Ce langage de programmation présente de nombreuses caractéristiques intéressantes :\n",
    "* Il est **multiplateforme**. C’est-à-dire qu’il fonctionne sur de nombreux systèmes d’exploitation : Windows, Mac OS X, Linux, Android, iOS, depuis les mini-ordinateurs Raspberry Pi jusqu’aux supercalculateurs.\n",
    "\n",
    "* Il est **gratuit**. Vous pouvez l’installer sur autant d’ordinateurs que vous voulez (même sur votre téléphone!).\n",
    "\n",
    "* C’est un **langage de haut niveau**. Il demande relativement peu de connaissance sur le fonctionnement d’un ordinateur pour être utilisé.\n",
    "\n",
    "* C’est un **langage interprété**. Un script Python n’a pas besoin d’être compilé pour être exécuté, contrairement à des langages comme le `C` ou le `C++`.\n",
    "\n",
    "* Il est **orienté objet**. C’est-à-dire qu’il est possible de concevoir en Python des entités qui miment celles du monde réel (une cellule, une protéine, un atome, etc.) avec un certain nombre de règles de fonctionnement et d’interactions.\n",
    "\n",
    "* Il est **relativement simple** à prendre en main.\n",
    "\n",
    "* Enfin, il est très utilisé en industrie technologique et plus généralement en data science et intelligence artificielle.\n",
    "\n",
    "# Installation d'un environnement Python scientifique\n",
    "## Qu’est ce que Anaconda ?\n",
    "\n",
    "Anaconda (<https://www.anaconda.com/products/individual#Downloads>) est  une distribution Python. A son installation, Anaconda installera Python ainsi qu'une multitude de packages (voir [liste de packages anaconda](https://docs.anaconda.com/anaconda/packages/pkg-docs#python-3-6)).  Cela nous évite de nous ruer dans les problèmes d’incompatibilités entre les différents packages.\n",
    "\n",
    "Finalement, Anaconda propose un outil de gestion de packages appelé [conda](https://conda.io/docs/). Ce dernier permettra de mettre à jour et installer facilement les librairies dont on aura besoin pour nos développements.\n",
    "\n",
    "<!-- dom:FIGURE: [imgs/AnacondaNavigator.png, width=600 frac=0.7] Interface graphique du navigateur Anaconda sur Windows -->\n",
    "<!-- begin figure -->\n",
    "\n",
    "<p>Interface graphique du navigateur Anaconda sur Windows</p>\n",
    "<img src=\"imgs/AnacondaNavigator.png\" width=600>\n",
    "\n",
    "<!-- end figure -->\n",
    "\n",
    "\n",
    "**Notice.**\n",
    "\n",
    "* Nous demandons à tous les étudiants de télécharger Anaconda. Pour cela, il faut télécharger un installeur à partir de <https://www.anaconda.com/products/individual#Downloads>, correspondant à votre système d’exploitation (Windows, Mac OS X, Linux). Il faut choisir entre 32 bits ou 64 bits (pour la version *Python 3*) selon que votre système d’exploitation est 32 bits ou 64 bits.\n",
    "\n",
    "* Anaconda installe plusieurs exécutables pour développer en Python dans le répertoire *anaconda3/bin* (voir dans votre dossier personnel), sans toujours créer des raccourcis sur le bureau ou dans un menu.\n",
    "\n",
    "\n",
    "\n",
    "## L'environnement Spyder\n",
    "Pour le développement de programmes en langage Python, des applications spéciales appelées IDE (Integrated Development Environment) peuvent être utilisées. **Spyder** (Scientific PYthon Development EnviRonment) est un environnement de développement interactif gratuit inclus avec Anaconda. Il comprend des fonctionnalités d'édition, de test interactif, de débogage et d'introspection.\n",
    "\n",
    "Après avoir installé Anaconda, vous pouvez démarrer Spyder sur macOS, Linux ou Windows en ouvrant une fenêtre de terminal (Ubuntu/macOS) ou d'invite de commande (Windows) et en exécutant la commande `spyder`.\n",
    "\n",
    "<!-- dom:FIGURE: [imgs/SpyderIDE.png, width=600 frac=0.7] Spyder sous Windows. -->\n",
    "<!-- begin figure -->\n",
    "\n",
    "<p>Spyder sous Windows.</p>\n",
    "<img src=\"imgs/SpyderIDE.png\" width=600>\n",
    "\n",
    "<!-- end figure -->\n",
    "\n",
    "\n",
    "\n",
    "# Premier programme en Python : \"Hello World!\"\n",
    "C'est devenu une tradition que lorsque vous apprenez un nouveau langage de programmation, vous démarrez avec un programme permettant à l'ordinateur d'imprimer le message *\"Hello World!\"*."
   ]
  },
  {
   "cell_type": "code",
   "execution_count": 1,
   "metadata": {
    "collapsed": false
   },
   "outputs": [],
   "source": [
    "print(\"Hello World!\")"
   ]
  },
  {
   "cell_type": "markdown",
   "metadata": {},
   "source": [
    "Félicitation! tout à l'heure vous avez fait votre ordinateur saluer le monde en anglais! La fonction `print()` est utilisée pour imprimer l’instruction entre les parenthèses. De plus, l'utilisation de guillemets simples `print('Hello World!')` affichera le même résultat. Le délimiteur de début et de fin doit être le même."
   ]
  },
  {
   "cell_type": "code",
   "execution_count": 2,
   "metadata": {
    "collapsed": false
   },
   "outputs": [],
   "source": [
    "print('Hello World!')"
   ]
  },
  {
   "cell_type": "markdown",
   "metadata": {},
   "source": [
    "# Commentaires\n",
    "\n",
    "Au fur et à mesure que vos programmes deviennent plus grands et plus compliqués, ils deviennent plus difficiles à lire et à regarder un morceau de code et à comprendre ce qu'il fait ou pourquoi. Pour cette raison, il est conseillé d’ajouter des notes à vos programmes pour expliquer en langage naturel ce qu’il fait. Ces notes s'appellent des commentaires et commencent par le symbole `#`.\n",
    "\n",
    "Voyez ce qui se passe lorsque nous ajoutons un commentaire au code précédent:"
   ]
  },
  {
   "cell_type": "code",
   "execution_count": 3,
   "metadata": {
    "collapsed": false
   },
   "outputs": [],
   "source": [
    "print('Hello World!') # Ceci est mon premier commentaire"
   ]
  },
  {
   "cell_type": "markdown",
   "metadata": {},
   "source": [
    "Rien ne change dans la sortie? Oui, et c’est très normal, l’interpréteur Python ignore cette ligne et ne renvoie rien. La raison en est que les commentaires sont écrits pour les humains, pour comprendre leurs codes, et non pour les machines.\n",
    "\n",
    "# Expressions\n",
    "## Opérations arithmétiques\n",
    "L'interpréteur Python agit comme une simple calculatrice : vous pouvez y taper une expression et l'interpréteur restituera la valeur. La syntaxe d'expression est simple: les opérateurs +, -, * et / fonctionnent comme dans la plupart des autres langages (par exemple, Pascal ou C); les parenthèses (`()`) peuvent être utilisées pour le regroupement. Par exemple:"
   ]
  },
  {
   "cell_type": "code",
   "execution_count": 4,
   "metadata": {
    "collapsed": false
   },
   "outputs": [],
   "source": [
    "5+3"
   ]
  },
  {
   "cell_type": "code",
   "execution_count": 5,
   "metadata": {
    "collapsed": false
   },
   "outputs": [],
   "source": [
    "2 - 9      # les espaces sont optionnels"
   ]
  },
  {
   "cell_type": "code",
   "execution_count": 6,
   "metadata": {
    "collapsed": false
   },
   "outputs": [],
   "source": [
    "7 + 3 * 4  #la hiérarchie des opérations mathématique"
   ]
  },
  {
   "cell_type": "code",
   "execution_count": 7,
   "metadata": {
    "collapsed": false
   },
   "outputs": [],
   "source": [
    "(7 + 3) * 4  # est-elle respectées?"
   ]
  },
  {
   "cell_type": "code",
   "execution_count": 8,
   "metadata": {
    "collapsed": false
   },
   "outputs": [],
   "source": [
    "20 / 3"
   ]
  },
  {
   "cell_type": "code",
   "execution_count": 9,
   "metadata": {
    "collapsed": false
   },
   "outputs": [],
   "source": [
    "7 // 2      # une division entière"
   ]
  },
  {
   "cell_type": "markdown",
   "metadata": {},
   "source": [
    "On peut noter l’existence de l’opérateur `%` (appelé opérateur modulo). Cet opérateur fournit le reste de la division entière d’un nombre par un autre. Par exemple :"
   ]
  },
  {
   "cell_type": "code",
   "execution_count": 10,
   "metadata": {
    "collapsed": false
   },
   "outputs": [],
   "source": [
    "7 % 2       # donne le reste de la division"
   ]
  },
  {
   "cell_type": "code",
   "execution_count": 11,
   "metadata": {
    "collapsed": false
   },
   "outputs": [],
   "source": [
    "6 % 2"
   ]
  },
  {
   "cell_type": "markdown",
   "metadata": {},
   "source": [
    "Les exposants peuvent être calculés à l'aide de doubles astérisques `**`."
   ]
  },
  {
   "cell_type": "code",
   "execution_count": 12,
   "metadata": {
    "collapsed": false
   },
   "outputs": [],
   "source": [
    "3**2"
   ]
  },
  {
   "cell_type": "markdown",
   "metadata": {},
   "source": [
    "Les puissances de dix peuvent être calculées comme suit:"
   ]
  },
  {
   "cell_type": "code",
   "execution_count": 13,
   "metadata": {
    "collapsed": false
   },
   "outputs": [],
   "source": [
    "3 * 2e3   # vaut 3 * 2000"
   ]
  },
  {
   "cell_type": "markdown",
   "metadata": {},
   "source": [
    "## Opérateurs relationnels\n",
    "\n",
    "\n",
    "\n",
    "<table border=\"1\">\n",
    "<thead>\n",
    "<tr><th align=\"center\">Opérateur</th> <th align=\"center\">    Signification    </th> <th align=\"center\">         Remarques          </th> </tr>\n",
    "</thead>\n",
    "<tbody>\n",
    "<tr><td align=\"left\">   <code><</code>          </td> <td align=\"left\">   strictement inférieur    </td> <td align=\"left\">                                   </td> </tr>\n",
    "<tr><td align=\"left\">   <code><=</code>         </td> <td align=\"left\">   inférieur ou égal        </td> <td align=\"left\">                                   </td> </tr>\n",
    "<tr><td align=\"left\">   <code>></code>          </td> <td align=\"left\">   strictement supérieur    </td> <td align=\"left\">                                   </td> </tr>\n",
    "<tr><td align=\"left\">   <code>>=</code>         </td> <td align=\"left\">   supérieur ou égal        </td> <td align=\"left\">                                   </td> </tr>\n",
    "<tr><td align=\"left\">   <code>==</code>         </td> <td align=\"left\">   égal                     </td> <td align=\"left\">   Attention : deux signes <code>==</code>    </td> </tr>\n",
    "<tr><td align=\"left\">   <code>!=</code>         </td> <td align=\"left\">   différent                </td> <td align=\"left\">                                   </td> </tr>\n",
    "</tbody>\n",
    "</table>"
   ]
  },
  {
   "cell_type": "code",
   "execution_count": 14,
   "metadata": {
    "collapsed": false
   },
   "outputs": [],
   "source": [
    "b = 10"
   ]
  },
  {
   "cell_type": "code",
   "execution_count": 15,
   "metadata": {
    "collapsed": false
   },
   "outputs": [],
   "source": [
    "b == 5"
   ]
  },
  {
   "cell_type": "code",
   "execution_count": 16,
   "metadata": {
    "collapsed": false
   },
   "outputs": [],
   "source": [
    "b != 5"
   ]
  },
  {
   "cell_type": "code",
   "execution_count": 17,
   "metadata": {
    "collapsed": false
   },
   "outputs": [],
   "source": [
    "0 <= b <= 20"
   ]
  },
  {
   "cell_type": "markdown",
   "metadata": {},
   "source": [
    "## Opérateurs logiques"
   ]
  },
  {
   "cell_type": "code",
   "execution_count": 18,
   "metadata": {
    "collapsed": false
   },
   "outputs": [],
   "source": [
    "note = 13.0"
   ]
  },
  {
   "cell_type": "code",
   "execution_count": 19,
   "metadata": {
    "collapsed": false
   },
   "outputs": [],
   "source": [
    "mention_ab = note >= 12.0 and note < 14.0"
   ]
  },
  {
   "cell_type": "code",
   "execution_count": 20,
   "metadata": {
    "collapsed": false
   },
   "outputs": [],
   "source": [
    "# ou bien : mention_ab = 12.0 <= note < 14.0"
   ]
  },
  {
   "cell_type": "code",
   "execution_count": 21,
   "metadata": {
    "collapsed": false
   },
   "outputs": [],
   "source": [
    "mention_ab"
   ]
  },
  {
   "cell_type": "code",
   "execution_count": 22,
   "metadata": {
    "collapsed": false
   },
   "outputs": [],
   "source": [
    "not mention_ab"
   ]
  },
  {
   "cell_type": "code",
   "execution_count": 23,
   "metadata": {
    "collapsed": false
   },
   "outputs": [],
   "source": [
    "note == 20.0 or note == 0.0"
   ]
  },
  {
   "cell_type": "markdown",
   "metadata": {},
   "source": [
    "L'opérateur `in` s'utilise avec des chaînes (type `str`) ou des listes (type `list`).\n",
    "\n",
    "Pour une chaînes:"
   ]
  },
  {
   "cell_type": "code",
   "execution_count": 24,
   "metadata": {
    "collapsed": false
   },
   "outputs": [],
   "source": [
    "chaine = 'Bonsoir'"
   ]
  },
  {
   "cell_type": "code",
   "execution_count": 25,
   "metadata": {
    "collapsed": false
   },
   "outputs": [],
   "source": [
    "resultat = 'soir' in chaine"
   ]
  },
  {
   "cell_type": "markdown",
   "metadata": {},
   "source": [
    "Pour une liste:"
   ]
  },
  {
   "cell_type": "code",
   "execution_count": 26,
   "metadata": {
    "collapsed": false
   },
   "outputs": [],
   "source": [
    "maliste = [4, 8, 15]"
   ]
  },
  {
   "cell_type": "code",
   "execution_count": 27,
   "metadata": {
    "collapsed": false
   },
   "outputs": [],
   "source": [
    "9 in maliste"
   ]
  },
  {
   "cell_type": "code",
   "execution_count": 28,
   "metadata": {
    "collapsed": false
   },
   "outputs": [],
   "source": [
    "8 in maliste"
   ]
  },
  {
   "cell_type": "code",
   "execution_count": 29,
   "metadata": {
    "collapsed": false
   },
   "outputs": [],
   "source": [
    "14 not in maliste"
   ]
  },
  {
   "cell_type": "markdown",
   "metadata": {},
   "source": [
    "# Variables et affectation\n",
    "Dans presque tous les programmes Python que vous allez écrire, vous aurez des variables. Les variables agissent comme des espaces réservés pour les données. Ils peuvent aider à court terme, ainsi qu’à la logique, les variables pouvant changer, d’où leur nom. C’est beaucoup plus facile en Python car aucune déclaration de variables n’est requise. Les noms de variable (ou tout autre objet Python tel que fonction, classe, module, etc.) commencent par une lettre majuscule ou minuscule (A-Z ou a-z). Ils sont sensibles à la casse (`VAR1` et `var1` sont deux variables distinctes). Depuis Python, vous pouvez utiliser n’importe quel caractère Unicode, il est préférable d’ignorer les caractères ASCII (donc pas de caractères accentués).\n",
    "\n",
    "Si une variable est nécessaire, pensez à un nom et commencez à l'utiliser comme une variable, comme dans l'exemple ci-dessous:\n",
    "\n",
    "Pour calculer l'aire d'un rectangle par exemple: `largeur` x `hauteur`:"
   ]
  },
  {
   "cell_type": "code",
   "execution_count": 30,
   "metadata": {
    "collapsed": false
   },
   "outputs": [],
   "source": [
    "largeur = 25"
   ]
  },
  {
   "cell_type": "markdown",
   "metadata": {},
   "source": [
    "on peut également utiliser la fonction `print()` pour afficher la valeur de la variable `largeur`"
   ]
  },
  {
   "cell_type": "code",
   "execution_count": 31,
   "metadata": {
    "collapsed": false
   },
   "outputs": [],
   "source": [
    "print(largeur)"
   ]
  },
  {
   "cell_type": "markdown",
   "metadata": {},
   "source": [
    "Le produit de ces deux variables donne l'aire du rectangle:"
   ]
  },
  {
   "cell_type": "code",
   "execution_count": 32,
   "metadata": {
    "collapsed": false
   },
   "outputs": [],
   "source": [
    "largeur * hauteur  # donne l'aire du rectangle"
   ]
  },
  {
   "cell_type": "markdown",
   "metadata": {},
   "source": [
    "**Notice.**\n",
    "\n",
    "Notez ici que le signe égal (`=`) dans l'affectation ne doit pas être considéré comme **\"est égal à\"**. Il doit être **\"lu\"** ou interprété comme **\"est définie par\"**, ce qui signifie dans notre exemple:\n",
    "> La variable `largeur` est définie par la valeur 25 et la variable `hauteur` est définie par la valeur 40.\n",
    "\n",
    "\n",
    "\n",
    "**Warning.**\n",
    "\n",
    "Si une variable n'est pas *définie* (assignée à une valeur), son utilisation vous donnera une erreur:"
   ]
  },
  {
   "cell_type": "code",
   "execution_count": 33,
   "metadata": {
    "collapsed": false
   },
   "outputs": [],
   "source": [
    "aire     # essayer d'accéder à une variable non définie"
   ]
  },
  {
   "cell_type": "markdown",
   "metadata": {},
   "source": [
    "Laissez-nous résoudre ce problème informatique (ou **bug** tout simplement)!. En d'autres termes, assignons la variable `aire` à sa valeur."
   ]
  },
  {
   "cell_type": "code",
   "execution_count": 34,
   "metadata": {
    "collapsed": false
   },
   "outputs": [],
   "source": [
    "aire = largeur * hauteur"
   ]
  },
  {
   "cell_type": "markdown",
   "metadata": {},
   "source": [
    "# Noms de variables réservés (keywords)\n",
    "Certains noms de variables ne sont pas disponibles, ils sont réservés à python lui-même. Les mots-clés suivants (que vous pouvez afficher dans l'interpréteur avec la commande `help(\"keywords\")`) sont réservés et ne peuvent pas être utilisés pour définir vos propres identifiants (variables, noms de fonctions, classes, etc.)."
   ]
  },
  {
   "cell_type": "code",
   "execution_count": 35,
   "metadata": {
    "collapsed": false
   },
   "outputs": [],
   "source": [
    "help(\"keywords\")"
   ]
  },
  {
   "cell_type": "code",
   "execution_count": 36,
   "metadata": {
    "collapsed": false
   },
   "outputs": [],
   "source": [
    "lambda_ = 630e-9"
   ]
  },
  {
   "cell_type": "markdown",
   "metadata": {},
   "source": [
    "# Types simples\n",
    "Les types utilisés dans Python sont: integers, long integers, floats (double prec.), complexes, strings, booleans. La fonction `type()` donne le type de son argument\n",
    "## Le type int (integer : nombres entiers)\n",
    "Pour affecter (on peut dire aussi assigner) la valeur 20 à la variable nommée `age` :"
   ]
  },
  {
   "cell_type": "markdown",
   "metadata": {},
   "source": [
    "La fonction `print()` affiche la valeur de la variable :"
   ]
  },
  {
   "cell_type": "code",
   "execution_count": 37,
   "metadata": {
    "collapsed": false
   },
   "outputs": [],
   "source": [
    "print(age)"
   ]
  },
  {
   "cell_type": "markdown",
   "metadata": {},
   "source": [
    "La fonction `type()` retourne le type de la variable :"
   ]
  },
  {
   "cell_type": "markdown",
   "metadata": {},
   "source": [
    "## Le type float (nombres en virgule flottante)"
   ]
  },
  {
   "cell_type": "code",
   "execution_count": 38,
   "metadata": {
    "collapsed": false
   },
   "outputs": [],
   "source": [
    "type(b)"
   ]
  },
  {
   "cell_type": "code",
   "execution_count": 39,
   "metadata": {
    "collapsed": false
   },
   "outputs": [],
   "source": [
    "c = 14.0/3.0"
   ]
  },
  {
   "cell_type": "markdown",
   "metadata": {},
   "source": [
    "Notation scientifique :"
   ]
  },
  {
   "cell_type": "code",
   "execution_count": 40,
   "metadata": {
    "collapsed": false
   },
   "outputs": [],
   "source": [
    "a = -1.784892e4"
   ]
  },
  {
   "cell_type": "markdown",
   "metadata": {},
   "source": [
    "## Le type complexe\n",
    "Python possède par défaut un type pour manipuler les nombres complexes. La partie imaginaire est indiquée grâce à la lettre « `j` » ou « `J` ». La lettre mathématique utilisée habituellement, le « `i` », n’est pas utilisée en Python car la variable i est souvent utilisée dans les boucles."
   ]
  },
  {
   "cell_type": "code",
   "execution_count": 41,
   "metadata": {
    "collapsed": false
   },
   "outputs": [],
   "source": [
    "a = 2 + 3j"
   ]
  },
  {
   "cell_type": "code",
   "execution_count": 42,
   "metadata": {
    "collapsed": false
   },
   "outputs": [],
   "source": [
    "a"
   ]
  },
  {
   "cell_type": "markdown",
   "metadata": {},
   "source": [
    "**Warning.**"
   ]
  },
  {
   "cell_type": "code",
   "execution_count": 43,
   "metadata": {
    "collapsed": false
   },
   "outputs": [],
   "source": [
    "b = 1 + j"
   ]
  },
  {
   "cell_type": "markdown",
   "metadata": {},
   "source": [
    "Dans ce cas, on doit écrire la variable `b` comme suit:"
   ]
  },
  {
   "cell_type": "code",
   "execution_count": 44,
   "metadata": {
    "collapsed": false
   },
   "outputs": [],
   "source": [
    "b = 1 + 1j"
   ]
  },
  {
   "cell_type": "markdown",
   "metadata": {},
   "source": [
    "sinon Python va considérer `j` comme variable non définie.\n",
    "\n",
    "\n",
    "On peut faire l'addition des variables complexes:"
   ]
  },
  {
   "cell_type": "code",
   "execution_count": 45,
   "metadata": {
    "collapsed": false
   },
   "outputs": [],
   "source": [
    "a + b"
   ]
  },
  {
   "cell_type": "markdown",
   "metadata": {},
   "source": [
    "## Le type bool (booléen)\n",
    "\n",
    "Deux valeurs sont possibles : `True` et `False`"
   ]
  },
  {
   "cell_type": "code",
   "execution_count": 46,
   "metadata": {
    "collapsed": false
   },
   "outputs": [],
   "source": [
    "choix = True # NOTE: \"True\" différent de \"true\""
   ]
  },
  {
   "cell_type": "markdown",
   "metadata": {},
   "source": [
    "# Types composés\n",
    "## Le type str (string : chaîne de caractères)"
   ]
  },
  {
   "cell_type": "code",
   "execution_count": 47,
   "metadata": {
    "collapsed": false
   },
   "outputs": [],
   "source": [
    "nom = 'Tounsi' # entre apostrophes"
   ]
  },
  {
   "cell_type": "code",
   "execution_count": 48,
   "metadata": {
    "collapsed": false
   },
   "outputs": [],
   "source": [
    "type(nom)"
   ]
  },
  {
   "cell_type": "code",
   "execution_count": 49,
   "metadata": {
    "collapsed": false
   },
   "outputs": [],
   "source": [
    "prenom = \"Ali\"  # on peut aussi utiliser les guillemets"
   ]
  },
  {
   "cell_type": "code",
   "execution_count": 50,
   "metadata": {
    "collapsed": false
   },
   "outputs": [],
   "source": [
    "print(nom, prenom)  # ne pas oublier la virgule"
   ]
  },
  {
   "cell_type": "markdown",
   "metadata": {},
   "source": [
    "La concaténation désigne la mise bout à bout de plusieurs chaînes de caractères.\n",
    "La concaténation utilise l'opérateur `+`:"
   ]
  },
  {
   "cell_type": "code",
   "execution_count": 51,
   "metadata": {
    "collapsed": false
   },
   "outputs": [],
   "source": [
    "chaine = nom + prenom  # concaténation de deux chaînes de caractères"
   ]
  },
  {
   "cell_type": "markdown",
   "metadata": {},
   "source": [
    "Vous voyez dans cet exemple que le nom et le prénom sont collé. Pour ajouter une espace entre ces deux chaînes de caractères:"
   ]
  },
  {
   "cell_type": "code",
   "execution_count": 52,
   "metadata": {
    "collapsed": false
   },
   "outputs": [],
   "source": [
    "chaine = prenom + ' ' + nom"
   ]
  },
  {
   "cell_type": "markdown",
   "metadata": {},
   "source": [
    "On peut modifier/ajouter une nouvelle chaîne à notre variable `chaine` par:"
   ]
  },
  {
   "cell_type": "code",
   "execution_count": 53,
   "metadata": {
    "collapsed": false
   },
   "outputs": [],
   "source": [
    "chaine = chaine + ' 22 ans'  # en plus court : chaine += ' 22 ans'"
   ]
  },
  {
   "cell_type": "markdown",
   "metadata": {},
   "source": [
    "La fonction `len()` renvoie la longueur (*length*) de la chaîne de caractères :"
   ]
  },
  {
   "cell_type": "code",
   "execution_count": 54,
   "metadata": {
    "collapsed": false
   },
   "outputs": [],
   "source": [
    "print(nom)"
   ]
  },
  {
   "cell_type": "markdown",
   "metadata": {},
   "source": [
    "**Indexage et slicing :**"
   ]
  },
  {
   "cell_type": "markdown",
   "metadata": {},
   "source": [
    "         +---+---+---+---+---+---+\n",
    "        |------------------------|\n",
    "         | T | o | u | n | s | i |\n",
    "         +---+---+---+---+---+---+\n",
    "         |------------------------|\n",
    "         0   1   2   3   4   5   6\n",
    "         --->\n",
    "        -6  -5  -4  -3  -2  -1\n",
    "                           <----\n"
   ]
  },
  {
   "cell_type": "code",
   "execution_count": 55,
   "metadata": {
    "collapsed": false
   },
   "outputs": [],
   "source": [
    "nom[0]  # premier caractère (indice 0)"
   ]
  },
  {
   "cell_type": "code",
   "execution_count": 56,
   "metadata": {
    "collapsed": false
   },
   "outputs": [],
   "source": [
    "nom[:] # toute la chaine"
   ]
  },
  {
   "cell_type": "code",
   "execution_count": 57,
   "metadata": {
    "collapsed": false
   },
   "outputs": [],
   "source": [
    "nom[1] # deuxième caractère (indice 1)"
   ]
  },
  {
   "cell_type": "code",
   "execution_count": 58,
   "metadata": {
    "collapsed": false
   },
   "outputs": [],
   "source": [
    "nom[1:4]   # slicing"
   ]
  },
  {
   "cell_type": "code",
   "execution_count": 59,
   "metadata": {
    "collapsed": false
   },
   "outputs": [],
   "source": [
    "nom[2:]  # slicing"
   ]
  },
  {
   "cell_type": "code",
   "execution_count": 60,
   "metadata": {
    "collapsed": false
   },
   "outputs": [],
   "source": [
    "nom[-1]   # dernier caractère (indice -1)"
   ]
  },
  {
   "cell_type": "code",
   "execution_count": 61,
   "metadata": {
    "collapsed": false
   },
   "outputs": [],
   "source": [
    "nom[-3:]    # slicing"
   ]
  },
  {
   "cell_type": "markdown",
   "metadata": {},
   "source": [
    "**Warning.**\n",
    "\n",
    "\n",
    "On ne peut pas mélanger le type `str` et type `int`.\n",
    "\n",
    "Soit par exemple:"
   ]
  },
  {
   "cell_type": "code",
   "execution_count": 62,
   "metadata": {
    "collapsed": false
   },
   "outputs": [],
   "source": [
    "chaine = '22'"
   ]
  },
  {
   "cell_type": "markdown",
   "metadata": {},
   "source": [
    "Pour corriger cette erreur, la fonction `int()` permet de convertir un type `str` en type `int`:"
   ]
  },
  {
   "cell_type": "code",
   "execution_count": 63,
   "metadata": {
    "collapsed": false
   },
   "outputs": [],
   "source": [
    "nombre = int(chaine)"
   ]
  },
  {
   "cell_type": "markdown",
   "metadata": {},
   "source": [
    "Maintenant on peut trouver `annee_naissance` sans aucun problème:"
   ]
  },
  {
   "cell_type": "code",
   "execution_count": 64,
   "metadata": {
    "collapsed": false
   },
   "outputs": [],
   "source": [
    "annee_naissance = 2018 - nombre"
   ]
  },
  {
   "cell_type": "markdown",
   "metadata": {},
   "source": [
    "**Interaction avec l'utilisateur (la fonction `input()`)**\n",
    "\n",
    "La fonction `input()` lance une case pour saisir une chaîne de caractères."
   ]
  },
  {
   "cell_type": "code",
   "execution_count": 65,
   "metadata": {
    "collapsed": false
   },
   "outputs": [],
   "source": [
    "prenom = input('Entrez votre prénom : ')"
   ]
  },
  {
   "cell_type": "markdown",
   "metadata": {},
   "source": [
    "** Formatage des chaînes**\n",
    "\n",
    "Un problème qui se retrouve souvent, c’est le besoin d’afficher un message qui contient des valeurs de variables.\n",
    "\n",
    "Soit le message: Bonjour Mr/Mme `prenom`, votre age est `age`.\n",
    "\n",
    "La solution est d'utiliser la méthode `format()` de l'objet chaîne `str()` et le `{}` pour définir la valeur à afficher."
   ]
  },
  {
   "cell_type": "markdown",
   "metadata": {},
   "source": [
    "**Le type list (liste)**\n",
    "\n",
    "Une liste est une structure de données.\n",
    "\n",
    "Le premier élément d'une liste possède l'indice (l'index) 0.\n",
    "\n",
    "Dans une liste, on peut avoir des éléments de plusieurs types."
   ]
  },
  {
   "cell_type": "code",
   "execution_count": 66,
   "metadata": {
    "collapsed": false
   },
   "outputs": [],
   "source": [
    "info = ['Tunisie', 'Afrique', 3000, 36.8, 10.08]"
   ]
  },
  {
   "cell_type": "code",
   "execution_count": 67,
   "metadata": {
    "collapsed": false
   },
   "outputs": [],
   "source": [
    "type(info)"
   ]
  },
  {
   "cell_type": "markdown",
   "metadata": {},
   "source": [
    "La liste info contient 5 éléments de types str, str, int, float et float"
   ]
  },
  {
   "cell_type": "code",
   "execution_count": 68,
   "metadata": {
    "collapsed": false
   },
   "outputs": [],
   "source": [
    "info"
   ]
  },
  {
   "cell_type": "code",
   "execution_count": 69,
   "metadata": {
    "collapsed": false
   },
   "outputs": [],
   "source": [
    "print('Pays : ', info[0])    # premier élément (indice 0)"
   ]
  },
  {
   "cell_type": "code",
   "execution_count": 70,
   "metadata": {
    "collapsed": false
   },
   "outputs": [],
   "source": [
    "print('Age : ', info[2])     # le troisième élément a l'indice 2"
   ]
  },
  {
   "cell_type": "code",
   "execution_count": 71,
   "metadata": {
    "collapsed": false
   },
   "outputs": [],
   "source": [
    "print('Latitude : ', info[3]) # le quatrième élément a l'indice 3"
   ]
  },
  {
   "cell_type": "markdown",
   "metadata": {},
   "source": [
    "La fonction `range()` crée une liste d'entiers régulièrement espacés :"
   ]
  },
  {
   "cell_type": "code",
   "execution_count": 72,
   "metadata": {
    "collapsed": false
   },
   "outputs": [],
   "source": [
    "maliste = range(10) # équivalent à range(0,10,1)\n",
    "type(maliste)"
   ]
  },
  {
   "cell_type": "markdown",
   "metadata": {},
   "source": [
    "Pour convertir une range en une liste, on applique la fonction `list()` à notre variable:"
   ]
  },
  {
   "cell_type": "code",
   "execution_count": 73,
   "metadata": {
    "collapsed": false
   },
   "outputs": [],
   "source": [
    "list(maliste)   # pour convertir range en une liste"
   ]
  },
  {
   "cell_type": "markdown",
   "metadata": {},
   "source": [
    "On peut spécifier le début, la fin et l'intervalle d'une range:"
   ]
  },
  {
   "cell_type": "code",
   "execution_count": 74,
   "metadata": {
    "collapsed": false
   },
   "outputs": [],
   "source": [
    "maliste = range(1,10,2)   # range(début,fin non comprise,intervalle)\n",
    "list(maliste)"
   ]
  },
  {
   "cell_type": "code",
   "execution_count": 75,
   "metadata": {
    "collapsed": false
   },
   "outputs": [],
   "source": [
    "maliste[2] # le troisième élément a l'indice 2"
   ]
  },
  {
   "cell_type": "markdown",
   "metadata": {},
   "source": [
    "On peut créer une liste de listes, qui s'apparente à un tableau à 2 dimensions (ligne, colonne) :"
   ]
  },
  {
   "cell_type": "markdown",
   "metadata": {},
   "source": [
    "        0   1   2\n",
    "        10  11  12\n",
    "        20  21  22\n"
   ]
  },
  {
   "cell_type": "code",
   "execution_count": 76,
   "metadata": {
    "collapsed": false
   },
   "outputs": [],
   "source": [
    "maliste = [[0, 1, 2], [10, 11, 12], [20, 21, 22]]"
   ]
  },
  {
   "cell_type": "code",
   "execution_count": 77,
   "metadata": {
    "collapsed": false
   },
   "outputs": [],
   "source": [
    "maliste[0][0]"
   ]
  },
  {
   "cell_type": "code",
   "execution_count": 78,
   "metadata": {
    "collapsed": false
   },
   "outputs": [],
   "source": [
    "maliste[2][1] # élément à la troisième ligne et deuxième colonne"
   ]
  },
  {
   "cell_type": "code",
   "execution_count": 79,
   "metadata": {
    "collapsed": false
   },
   "outputs": [],
   "source": [
    "maliste[2][1] = 78   # nouvelle affectation"
   ]
  },
  {
   "cell_type": "code",
   "execution_count": 80,
   "metadata": {
    "collapsed": false
   },
   "outputs": [],
   "source": [
    "maliste"
   ]
  },
  {
   "cell_type": "markdown",
   "metadata": {},
   "source": [
    "<!-- ======= Les conditions ======= -->\n",
    "<!-- ===== L'instruction `if` ===== -->\n",
    "<!-- En programmation, nous avons toujours besoin de la notion de condition pour permettre à un programme de s'adapter à différents cas de figure. -->\n",
    "<!--  -->\n",
    "<!-- !bblock Syntaxe -->\n",
    "<!--  -->\n",
    "<!-- !bc pycod-t -->\n",
    "<!-- if expression: # ne pas oublier le signe de ponctuation ':' -->\n",
    "<!-- \"bloc d'instructions\" # attention à l'indentation (1 Tab ou 4 * Espaces) -->\n",
    "<!-- # suite du programme -->\n",
    "<!-- !ec -->\n",
    "<!-- !eblock -->\n",
    "<!--  -->\n",
    "<!-- * Si l'expression est vraie (`True`) alors le bloc d'instructions est exécuté. -->\n",
    "<!--  -->\n",
    "<!-- * Si l'expression est fausse (`False`) on passe directement à la suite du programme. -->\n",
    "<!--  -->\n",
    "<!-- === Exemple 1: Note sur 20 === -->\n",
    "<!-- Dans cet exemple nous allons tester si la note entrée par l'utilisateur. Si la note est > 10 on doit recevoir le message: \"J'ai la moyenne\" sinon il va rien faire. -->\n",
    "<!-- !bc pycod -->\n",
    "<!-- chaine = input(\"Note sur 20 : \") -->\n",
    "<!-- note = float(chaine) -->\n",
    "<!-- if note >= 10.0: -->\n",
    "<!-- # ce bloc est exécuté si l'expression (note >= 10.0) est vraie -->\n",
    "<!-- print(\"J'ai la moyenne\") -->\n",
    "<!--  -->\n",
    "<!-- # suite du programme -->\n",
    "<!-- print(\"Fin du programme\") -->\n",
    "<!-- !ec -->\n",
    "<!--  -->\n",
    "<!-- !bnotice -->\n",
    "<!-- * Les blocs de code sont délimités par l'indentation. -->\n",
    "<!-- * L'indentation est obligatoire dans les scripts. -->\n",
    "<!-- !enotice -->\n",
    "<!--  -->\n",
    "<!-- ===== L'instruction `else` ===== -->\n",
    "<!--  -->\n",
    "<!-- Une instruction `else` est toujours associée à une instruction `if`. -->\n",
    "<!--  -->\n",
    "<!-- !bblock Syntaxe -->\n",
    "<!--  -->\n",
    "<!-- !bc pycod-t -->\n",
    "<!-- if expression: -->\n",
    "<!-- \"bloc d'instructions 1\"    # attention à l'indentation (1 Tab ou 4 * Espaces) -->\n",
    "<!-- else:                          # else est au même niveau que if -->\n",
    "<!-- \"bloc d'instructions 2\"    # attention à l'indentation -->\n",
    "<!-- # suite du programme -->\n",
    "<!-- !ec -->\n",
    "<!-- !eblock -->\n",
    "<!--  -->\n",
    "<!-- * Si l'expression est vraie (`True`) alors le bloc d'instructions 1 est exécuté. -->\n",
    "<!-- * Si l'expression est fausse (`False`) alors c'est le bloc d'instructions 2 qui est exécuté. -->\n",
    "<!--  -->\n",
    "<!-- === Exemple 2 : moyenne === -->\n",
    "<!-- Dans cet exemple nous allons tester si la note entrée par l'utilisateur. Si la note est > 10 on doit recevoir le message: \"J'ai la moyenne\" sinon il va afficher \"C'est en dessous de la moyenne\". -->\n",
    "<!--  -->\n",
    "<!-- !bc pycod -->\n",
    "<!-- chaine = input(\"Note sur 20 : \") -->\n",
    "<!-- note = float(chaine) -->\n",
    "<!-- if note >= 10.0: -->\n",
    "<!-- # ce bloc est exécuté si l'expression (note >= 10.0) est vraie -->\n",
    "<!-- print(\"J'ai la moyenne\") -->\n",
    "<!-- else: -->\n",
    "<!-- # ce bloc est exécuté si l'expression (note >= 10.0) est fausse -->\n",
    "<!-- print(\"C'est en dessous de la moyenne\") -->\n",
    "<!-- print(\"Fin du programme\") -->\n",
    "<!-- !ec -->\n",
    "<!--  -->\n",
    "<!-- Pour traiter le cas des notes invalides ($<0$ ou $>20$), on peut imbriquer des instructions conditionnelles : -->\n",
    "<!--  -->\n",
    "<!-- !bc pycod -->\n",
    "<!-- chaine = input(\"Note sur 20 : \") -->\n",
    "<!-- note = float(chaine) -->\n",
    "<!-- if note > 20.0 or note < 0.0: -->\n",
    "<!-- # ce bloc est exécuté si l'expression (note > 20.0 or note < 0.0) est vraie -->\n",
    "<!-- print(\"Note invalide !\") -->\n",
    "<!-- else: -->\n",
    "<!-- # ce bloc est exécuté si l'expression (note > 20.0 or note < 0.0) est fausse -->\n",
    "<!-- if note >= 10.0: -->\n",
    "<!-- # ce bloc est exécuté si l'expression (note >= 10.0) est vraie -->\n",
    "<!-- print(\"J'ai la moyenne\") -->\n",
    "<!-- else: -->\n",
    "<!-- # ce bloc est exécuté si l'expression (note >= 10.0) est fausse -->\n",
    "<!-- print(\"C'est en dessous de la moyenne\") -->\n",
    "<!-- print(\"Fin du programme\") -->\n",
    "<!-- !ec -->\n",
    "<!-- Ou bien encore: -->\n",
    "<!-- !bc pycod -->\n",
    "<!-- chaine = input(\"Note sur 20 : \") -->\n",
    "<!-- note = float(chaine) -->\n",
    "<!-- if note > 20.0 or note < 0.0: -->\n",
    "<!-- print(\"Note invalide !\") -->\n",
    "<!-- else: -->\n",
    "<!-- if note >= 10.0: -->\n",
    "<!-- print(\"J'ai la moyenne\") -->\n",
    "<!-- if note == 20.0: -->\n",
    "<!-- # ce bloc est exécuté si l'expression (note == 20.0) est vraie -->\n",
    "<!-- print(\"C'est même excellent !\") -->\n",
    "<!-- else: -->\n",
    "<!-- print(\"C'est en dessous de la moyenne\") -->\n",
    "<!-- if note == 0.0: -->\n",
    "<!-- # ce bloc est exécuté si l'expression (note == 0.0) est vraie -->\n",
    "<!-- print(\"... lamentable !\") -->\n",
    "<!-- print(\"Fin du programme\") -->\n",
    "<!-- !ec -->\n",
    "<!--  -->\n",
    "<!-- ===== L'instruction `elif` ===== -->\n",
    "<!-- Une instruction `elif` (contraction de **else if**) est toujours associée à une instruction `if`. -->\n",
    "<!--  -->\n",
    "<!-- !bblock Syntaxe -->\n",
    "<!--  -->\n",
    "<!-- !bc pycod-t -->\n",
    "<!-- if expression 1: -->\n",
    "<!-- \"bloc d'instructions 1\" -->\n",
    "<!-- elif expression 2: -->\n",
    "<!-- \"bloc d'instructions 2\" -->\n",
    "<!-- elif expression 3: -->\n",
    "<!-- \"bloc d'instructions 3\"    # ici deux instructions elif, mais il n'y a pas de limitation -->\n",
    "<!-- else: -->\n",
    "<!-- \"bloc d'instructions 4\" -->\n",
    "<!-- # suite du programme -->\n",
    "<!-- !ec -->\n",
    "<!-- !eblock -->\n",
    "<!--  -->\n",
    "<!-- * Si l'expression 1 est vraie alors le bloc d'instructions 1 est exécuté, et on passe à la suite du programme. -->\n",
    "<!-- * Si l'expression 1 est fausse alors on teste l'expression 2 : -->\n",
    "<!--  -->\n",
    "<!-- * si l'expression 2 est vraie on exécute le bloc d'instructions 2, et on passe à la suite du programme. -->\n",
    "<!-- * si l'expression 2 est fausse alors on teste l'expression 3, etc. -->\n",
    "<!--  -->\n",
    "<!-- Le bloc d'instructions 4 est donc exécuté si toutes les expressions sont fausses (c'est le bloc \"par défaut\"). -->\n",
    "<!--  -->\n",
    "<!-- Parfois il n'y a rien à faire. Dans ce cas, on peut omettre l'instruction `else` : -->\n",
    "<!--  -->\n",
    "<!-- !bc pycod-t -->\n",
    "<!-- if expression 1: -->\n",
    "<!-- \"bloc d'instructions 1\" -->\n",
    "<!-- elif expression 2: -->\n",
    "<!-- \"bloc d'instructions 2\" -->\n",
    "<!-- elif expression 3: -->\n",
    "<!-- \"bloc d'instructions 3\" -->\n",
    "<!-- # suite du programme -->\n",
    "<!-- !ec -->\n",
    "<!--  -->\n",
    "<!--  -->\n",
    "<!-- L'instruction `elif` évite souvent l'utilisation de conditions imbriquées (et souvent compliquées). -->\n",
    "<!--  -->\n",
    "<!-- === Exemple 3 : moyenne-bis === -->\n",
    "<!-- On peut tester plusieurs possibilités avec une syntaxe beaucoup plus propre avec les instructions `if-elif-else`: -->\n",
    "<!-- !bc pycod -->\n",
    "<!-- note = float(input(\"Note sur 20 : \")) -->\n",
    "<!-- if note == 0.0: -->\n",
    "<!-- print(\"C'est en dessous de la moyenne\") -->\n",
    "<!-- print(\"... lamentable!\") -->\n",
    "<!-- elif note == 20.0: -->\n",
    "<!-- print(\"J'ai la moyenne\") -->\n",
    "<!-- print(\"C'est même excellent !\") -->\n",
    "<!-- elif 0 < note < 10:    # ou bien : elif 0.0 < note < 10.0: -->\n",
    "<!-- print(\"C'est en dessous de la moyenne\") -->\n",
    "<!-- elif note >= 10.0 and note < 20.0:   # ou bien : elif 10.0 <= note < 20.0: -->\n",
    "<!-- print(\"J'ai la moyenne\") -->\n",
    "<!-- else: -->\n",
    "<!-- print(\"Note invalide !\") -->\n",
    "<!-- print(\"Fin du programme\") -->\n",
    "<!-- !ec -->\n",
    "<!--  -->\n",
    "<!-- ===== Exercise: Condition sur le jour de travail ===== -->\n",
    "<!--  -->\n",
    "<!-- Si aujourd'hui est lundi alors je dois aller travailler, mais si c'est dimanche alors je peux rester faire la grasse matinée. Pour pouvoir accomplir ce genre de choses en Python, on fait appel à des expressions booléennes qui ne peuvent revêtir que deux possibilités - ou bien l'expression est vraie ou bien elle est fausse - et à la syntaxe if condition: qui permet de contrôler le flux du programme grâce à ces valeurs booléennes. -->\n",
    "<!--  -->\n",
    "<!-- !bc pycod-t -->\n",
    "<!-- day_week = [\"Lundi\", \"Mardi\", \"Mercredi\", \"Jeudi\", \"Vendredi\", -->\n",
    "<!-- \"Samedi\", \"Dimanche\"] -->\n",
    "<!-- today = input(\"Aujourd'hui est: \") -->\n",
    "<!--  -->\n",
    "<!-- if *condition vraie*:  # Quelle est la condition vraie dans ce cas? -->\n",
    "<!-- print(\"Je dors le matin!\") -->\n",
    "<!-- else: -->\n",
    "<!-- print(\"Je travail le matin!\") -->\n",
    "<!--  -->\n",
    "<!-- print(\"Fin du programme\") -->\n",
    "<!-- !ec -->\n",
    "<!--  -->\n",
    "<!-- !bhint -->\n",
    "<!-- Dans la **condition vraie**, utilisez l'opérateur logique `in` pour tester les éléments de la liste `day_week`. -->\n",
    "<!-- !ehint -->\n",
    "<!--  -->\n",
    "<!-- !bsol -->\n",
    "<!-- !bc pycod -->\n",
    "<!-- day_week = [\"Lundi\", \"Mardi\", \"Mercredi\", \"Jeudi\", \"Vendredi\", \"Samedi\", \"Dimanche\"] -->\n",
    "<!-- today = input(\"Aujourd'hui est: \") -->\n",
    "<!-- if today in day_week: -->\n",
    "<!-- if today == day_week[-1]:  # la condition vraie -->\n",
    "<!-- print(\"Je dors le matin!\") -->\n",
    "<!-- else: -->\n",
    "<!-- print(\"Je travail le matin!\") -->\n",
    "<!--  -->\n",
    "<!-- print(\"Fin du programme\") -->\n",
    "<!-- !ec -->\n",
    "<!-- !esol -->\n",
    "<!-- ======= Les boucles ======= -->\n",
    "<!-- ===== L'instruction `while` ===== -->\n",
    "<!--  -->\n",
    "<!-- !bblock Syntaxe -->\n",
    "<!--  -->\n",
    "<!-- !bc pycod-t -->\n",
    "<!-- while expression:           # ne pas oublier le signe de ponctuation ':' -->\n",
    "<!-- \"bloc d'instructions\"   # attention à l'indentation (1 Tab ou 4 * Espaces) -->\n",
    "<!-- # suite du programme -->\n",
    "<!-- !ec -->\n",
    "<!-- !eblock -->\n",
    "<!--  -->\n",
    "<!-- * Si l'expression est vraie (`True`) le bloc d'instructions est exécuté, puis l'expression est à nouveau évaluée. -->\n",
    "<!-- * Le cycle continue jusqu'à ce que l'expression soit fausse (`False`) : on passe alors à la suite du programme. -->\n",
    "<!--  -->\n",
    "<!-- === Exemple 1 : un script qui compte de 1 à 4 === -->\n",
    "<!--  -->\n",
    "<!-- !bc pycod -->\n",
    "<!-- # initialisation de la variable de comptage -->\n",
    "<!-- compteur = 0 -->\n",
    "<!-- while compteur < 5: -->\n",
    "<!-- # ce bloc est exécuté tant que la condition (compteur < 5) est vraie -->\n",
    "<!-- print(compteur) -->\n",
    "<!-- compteur +=  1    # incrémentation du compteur,  compteur = compteur + 1 -->\n",
    "<!-- print(compteur) -->\n",
    "<!-- print(\"Fin de la boucle\") -->\n",
    "<!-- !ec -->\n",
    "<!--  -->\n",
    "<!-- === Exemple 2 : Table de multiplication par 8 === -->\n",
    "<!--  -->\n",
    "<!-- !bc pycod -->\n",
    "<!-- compteur = 1         # initialisation de la variable de comptage -->\n",
    "<!-- while compteur <= 10: -->\n",
    "<!-- # ce bloc est exécuté tant que la condition (compteur <= 10) est vraie -->\n",
    "<!-- print(compteur, '* 8 =', compteur*8) -->\n",
    "<!-- compteur += 1    # incrémentation du compteur, compteur = compteur + 1 -->\n",
    "<!-- print(\"Et voilà !\") -->\n",
    "<!-- !ec -->\n",
    "<!--  -->\n",
    "<!-- === Exemple 3 : Affichage de l'heure courante === -->\n",
    "<!--  -->\n",
    "<!-- !bc pycod -->\n",
    "<!-- import time     # importation du module time -->\n",
    "<!-- quitter = 'n'   # initialisation -->\n",
    "<!-- while quitter != 'o': -->\n",
    "<!-- # ce bloc est exécuté tant que la condition est vraie -->\n",
    "<!-- # strftime() est une fonction du module time -->\n",
    "<!-- print('Heure courante ', time.strftime('%H:%M:%S')) -->\n",
    "<!-- quitter = input(\"Voulez-vous quitter le programme (o/n) ? \") -->\n",
    "<!-- print(\"A bientôt\") -->\n",
    "<!-- !ec -->\n",
    "<!--  -->\n",
    "<!-- ===== L'instruction `for` ===== -->\n",
    "<!--  -->\n",
    "<!-- !bblock Syntaxe -->\n",
    "<!--  -->\n",
    "<!-- !bc pycod-t -->\n",
    "<!-- for élément in séquence :     # ne pas oublier le signe de ponctuation ':' -->\n",
    "<!-- \"bloc d'instructions\"     # attention à l'indentation (1 Tab ou 4 * Espaces) -->\n",
    "<!-- # suite du programme -->\n",
    "<!-- !ec -->\n",
    "<!-- !eblock -->\n",
    "<!--  -->\n",
    "<!-- Les éléments de la séquence sont issus d'une chaîne de caractères ou bien d'une liste. -->\n",
    "<!--  -->\n",
    "<!-- === Exemple 1 : séquence de caractères === -->\n",
    "<!--  -->\n",
    "<!-- !bc pycod -->\n",
    "<!-- chaine = 'Bonsoir' -->\n",
    "<!-- for lettre in chaine:  # lettre est la variable d'itération -->\n",
    "<!-- print(lettre) -->\n",
    "<!-- print(\"Fin de la boucle\") -->\n",
    "<!-- !ec -->\n",
    "<!--  -->\n",
    "<!-- La variable lettre est initialisée avec le premier élément de la séquence ('B'). -->\n",
    "<!-- Le bloc d'instructions est alors exécuté. -->\n",
    "<!--  -->\n",
    "<!-- Puis la variable lettre est mise à jour avec le second élément de la séquence ('o') et le bloc d'instructions à nouveau exécuté... -->\n",
    "<!--  -->\n",
    "<!-- Le bloc d'instructions est exécuté une dernière fois lorsqu'on arrive au dernier élément de la séquence ('r'). -->\n",
    "<!--  -->\n",
    "<!-- === Fonction `range()` === -->\n",
    "<!--  -->\n",
    "<!-- L'association avec la fonction `range()` est très utile pour créer des séquences automatiques de nombres entiers : -->\n",
    "<!--  -->\n",
    "<!-- !bc pycod -->\n",
    "<!-- for i in range(1, 5): -->\n",
    "<!-- print(i) -->\n",
    "<!-- print(\"Fin de la boucle\") -->\n",
    "<!-- !ec -->\n",
    "<!--  -->\n",
    "<!-- === Exemple 2 : Table de multiplication === -->\n",
    "<!--  -->\n",
    "<!-- La création d'une table de multiplication paraît plus simple avec une boucle `for` qu'avec une boucle `while` : -->\n",
    "<!--  -->\n",
    "<!-- !bc pycod -->\n",
    "<!-- for compteur in range(1,11): -->\n",
    "<!-- print(compteur, '* 8 =', compteur*8) -->\n",
    "<!-- print(\"Et voilà !\") -->\n",
    "<!-- !ec -->\n",
    "<!--  -->\n",
    "<!-- === Exemple 3 : calcul d'une somme === -->\n",
    "<!--  -->\n",
    "<!-- Soit, par exemple, l'expression de la somme suivante: -->\n",
    "<!-- $$s = \\sum_{i = 0}^{100} \\sqrt{ \\frac{i \\pi}{100}} sin(\\frac{i \\pi}{100})$$ -->\n",
    "<!--  -->\n",
    "<!-- !bc pycod -->\n",
    "<!-- from math import sqrt, sin, pi -->\n",
    "<!-- s = 0.0 # # intialisation de s -->\n",
    "<!-- for i in range(101): -->\n",
    "<!-- s+= sqrt(i * pi/100) * sin(i * pi/100)   # équivalent à s = s + sqrt(x) * sin(x) -->\n",
    "<!-- # Affichage de la somme -->\n",
    "<!-- print(s) -->\n",
    "<!-- !ec -->\n",
    "<!--  -->\n",
    "<!-- ===== Exercise: produit de Wallis ===== -->\n",
    "<!--  -->\n",
    "<!-- Calculer $\\pi$ avec le [produit de Wallis](https://fr.wikipedia.org/wiki/Int%C3%A9grale_de_Wallis#Calcul_de_%CF%80) -->\n",
    "<!--  -->\n",
    "<!-- $$ \\frac{\\pi}{2} = \\prod_{i=1}^p\\frac{4i^2}{4i^2-1}$$ -->\n",
    "<!--  -->\n",
    "<!-- !bsol -->\n",
    "<!-- !bc pycod -->\n",
    "<!-- # %load wallis.py -->\n",
    "<!-- from math import pi -->\n",
    "<!--  -->\n",
    "<!-- my_pi = 1.  # intialisation -->\n",
    "<!-- p = 100000 -->\n",
    "<!-- for i in range(1, p): -->\n",
    "<!-- my_pi *= 4 * i ** 2 / (4 * i ** 2 - 1.)  # implémentation de la formule de Wallis -->\n",
    "<!--  -->\n",
    "<!-- my_pi *= 2       # multiplication par 2 de la valeur trouvée -->\n",
    "<!--  -->\n",
    "<!-- print(\"La valeur de pi de la bibliothèque 'math': \", pi) -->\n",
    "<!-- print(\"La valeur de pi calculer par la formule de Wallis: \", my_pi) -->\n",
    "<!--  -->\n",
    "<!-- print(\"La différence entre les deux valeurs:\", abs(pi - my_pi)) -->\n",
    "<!-- # la fonction abs() donne la valeur absolue -->\n",
    "<!-- !ec -->\n",
    "<!-- !esol -->\n",
    "<!--  -->\n",
    "<!-- ===== Compréhensions de listes ===== -->\n",
    "<!--  -->\n",
    "<!-- Les compréhensions de listes fournissent un moyen de construire des listes de manière très concise. Une application classique est la construction de nouvelles listes où chaque élément est le résultat d’une opération appliquée à chaque élément d’une autre séquence ; ou de créer une sous-séquence des éléments satisfaisant une condition spécifique. -->\n",
    "<!--  -->\n",
    "<!-- Par exemple, supposons que l’on veuille créer une liste de carrés, comme : -->\n",
    "<!--  -->\n",
    "<!-- !bc pycod -->\n",
    "<!-- squares = [] -->\n",
    "<!-- for x in range(10): -->\n",
    "<!-- squares.append(x**2) -->\n",
    "<!-- !ec -->\n",
    "<!--  -->\n",
    "<!-- !bc pycod -->\n",
    "<!-- squares -->\n",
    "<!-- !ec -->\n",
    "<!-- Notez que cela crée (ou remplace) une variable nommée `x` qui existe toujours après l’exécution de la boucle. On peut calculer une liste de carrés sans effet de bord avec : -->\n",
    "<!--  -->\n",
    "<!-- !bc pycod -->\n",
    "<!-- squares = [x**2 for x in range(10)] -->\n",
    "<!-- squares -->\n",
    "<!-- !ec -->\n",
    "<!-- qui est plus court et lisible. -->\n",
    "<!--  -->\n",
    "<!-- Une compréhension de liste consiste à placer entre crochets une expression suivie par une clause `for` puis par zéro ou plus clauses `for` ou `if`. Le résultat est une nouvelle liste résultat de l’évaluation de l’expression dans le contexte des clauses `for` et `if` qui la suivent. Par exemple, cette compréhension de liste combine les éléments de deux listes s’ils ne sont pas égaux : -->\n",
    "<!--  -->\n",
    "<!-- !bc pycod -->\n",
    "<!-- combs = [(x, y) for x in [1,2,3] for y in [3,1,4] if x != y] -->\n",
    "<!-- !ec -->\n",
    "<!--  -->\n",
    "<!-- !bc pycod -->\n",
    "<!-- combs -->\n",
    "<!-- !ec -->\n",
    "<!-- et c’est équivalent à : -->\n",
    "<!--  -->\n",
    "<!-- !bc pycod -->\n",
    "<!-- combs = [] -->\n",
    "<!-- for x in [1,2,3]: -->\n",
    "<!-- for y in [3,1,4]: -->\n",
    "<!-- if x != y: -->\n",
    "<!-- combs.append((x, y)) -->\n",
    "<!-- !ec -->\n",
    "<!--  -->\n",
    "<!-- !bc pycod -->\n",
    "<!-- combs -->\n",
    "<!-- !ec -->\n",
    "<!--  -->\n",
    "<!-- !bnotice -->\n",
    "<!-- Notez que l’ordre des instructions `for` et `if` est le même dans ces différents extraits de code. -->\n",
    "<!-- !enotice -->\n",
    "<!--  -->\n",
    "<!-- ===== L'instruction break ===== -->\n",
    "<!--  -->\n",
    "<!-- L'instruction break provoque une sortie immédiate d'une boucle `while` ou d'une boucle `for`. -->\n",
    "<!--  -->\n",
    "<!-- Dans l'exemple suivant, l'expression `True` est toujours ... vraie : on a une boucle sans fin. -->\n",
    "<!--  -->\n",
    "<!-- L'instruction `break` est donc le seul moyen de sortir de la boucle. -->\n",
    "<!--  -->\n",
    "<!-- === Exemple : Affichage de l'heure courante === -->\n",
    "<!--  -->\n",
    "<!-- !bc pycod -->\n",
    "<!-- import time     # importation du module time -->\n",
    "<!-- while True: -->\n",
    "<!-- # strftime() est une fonction du module time -->\n",
    "<!-- print('Heure courante ', time.strftime('%H:%M:%S')) -->\n",
    "<!-- quitter = input('Voulez-vous quitter le programme (o/n) ? ') -->\n",
    "<!-- if quitter == 'o': -->\n",
    "<!-- break -->\n",
    "<!-- print(\"A bientôt\") -->\n",
    "<!-- !ec -->\n",
    "<!--  -->\n",
    "<!-- !bnotice -->\n",
    "<!-- Si vous connaissez le nombre de boucles à effectuer, utiliser une boucle `for`. -->\n",
    "<!-- Autrement, utiliser une boucle `while` (notamment pour faire des boucles sans fin). -->\n",
    "<!-- !enotice -->\n",
    "<!--  -->\n",
    "<!-- ======= Les fonctions ======= -->\n",
    "<!--  -->\n",
    "<!-- Nous avons déjà vu beaucoup de fonctions : `print()`, `type()`, `len()`, `input()`, `range()`... -->\n",
    "<!--  -->\n",
    "<!-- Ce sont des fonctions pré-définies ([Fonctions natives](https://docs.python.org/fr/3/library/functions.html)). -->\n",
    "<!--  -->\n",
    "<!-- Nous avons aussi la possibilité de créer nos propres fonctions! -->\n",
    "<!--  -->\n",
    "<!-- ===== Intérêt des fonctions ===== -->\n",
    "<!--  -->\n",
    "<!-- Une fonction est une portion de code que l'on peut appeler au besoin (c'est une sorte de sous-programme). -->\n",
    "<!--  -->\n",
    "<!-- L'utilisation des fonctions évite des redondances dans le code : on obtient ainsi des programmes plus courts et plus lisibles. -->\n",
    "<!--  -->\n",
    "<!-- Par exemple, nous avons besoin de convertir à plusieurs reprises des degrés Celsius en degrés Fahrenheit : -->\n",
    "<!-- $$T_F = T_C \\times 1,8 + 32 $$ -->\n",
    "<!--  -->\n",
    "<!-- !bc pycod -->\n",
    "<!-- print(100 * 1.8 + 32.0) -->\n",
    "<!-- !ec -->\n",
    "<!--  -->\n",
    "<!-- !bc pycod -->\n",
    "<!-- print(37.0 * 1.8 + 32.0) -->\n",
    "<!-- !ec -->\n",
    "<!--  -->\n",
    "<!-- !bc pycod -->\n",
    "<!-- print(233.0 * 1.8 + 32.0) -->\n",
    "<!-- !ec -->\n",
    "<!-- La même chose en utilisant une fonction : -->\n",
    "<!--  -->\n",
    "<!-- !bc pycod -->\n",
    "<!-- def fahrenheit(degre_celsius): -->\n",
    "<!-- \"\"\" -->\n",
    "<!-- Conversion degré Celsius en degré Fahrenheit -->\n",
    "<!-- \"\"\" -->\n",
    "<!-- print(degre_celsius * 1.8 + 32.0) -->\n",
    "<!-- !ec -->\n",
    "<!--  -->\n",
    "<!-- !bc pycod -->\n",
    "<!-- fahrenheit(100) -->\n",
    "<!-- !ec -->\n",
    "<!--  -->\n",
    "<!-- !bc pycod -->\n",
    "<!-- fahrenheit(37) -->\n",
    "<!-- !ec -->\n",
    "<!--  -->\n",
    "<!-- !bc pycod -->\n",
    "<!-- temperature = 220 -->\n",
    "<!-- fahrenheit(temperature) -->\n",
    "<!-- !ec -->\n",
    "<!--  -->\n",
    "<!-- ===== L'instruction def ===== -->\n",
    "<!--  -->\n",
    "<!-- !bblock Syntaxe -->\n",
    "<!--  -->\n",
    "<!-- !bc pycod-t -->\n",
    "<!-- def nom_de_la_fonction(parametre1, parametre2, parametre3, ...): -->\n",
    "<!-- \"\"\" -->\n",
    "<!-- Documentation -->\n",
    "<!-- qu'on peut écrire -->\n",
    "<!-- sur plusieurs lignes -->\n",
    "<!-- \"\"\"     # docstring entouré de 3 guillemets (ou apostrophes) -->\n",
    "<!--  -->\n",
    "<!-- \"bloc d'instructions\"     # attention à l'indentation -->\n",
    "<!--  -->\n",
    "<!-- return resultat            # la fonction retourne le contenu de la variable resultat -->\n",
    "<!-- !ec -->\n",
    "<!-- !eblock -->\n",
    "<!--  -->\n",
    "<!-- === Exemple : ma première fonction === -->\n",
    "<!--  -->\n",
    "<!-- !bc pycod -->\n",
    "<!-- def mapremierefonction():         # cette fonction n'a pas de paramètre -->\n",
    "<!-- \"\"\" -->\n",
    "<!-- Cette fonction affiche 'Bonjour' -->\n",
    "<!-- \"\"\" -->\n",
    "<!-- print(\"Bonjour\") -->\n",
    "<!-- return                         # cette fonction ne retourne rien ('None') -->\n",
    "<!-- # l'instruction return est ici facultative -->\n",
    "<!-- !ec -->\n",
    "<!--  -->\n",
    "<!-- !bc pycod -->\n",
    "<!-- mapremierefonction() -->\n",
    "<!-- !ec -->\n",
    "<!--  -->\n",
    "<!-- !bc pycod -->\n",
    "<!-- help(mapremierefonction) -->\n",
    "<!-- !ec -->\n",
    "<!--  -->\n",
    "<!-- ======= Les Scripts ======= -->\n",
    "<!--  -->\n",
    "<!-- Commençons par écrire un script, c’est-à-dire un fichier avec une séquence d’instructions à exécuter chaque fois que le script est appelé. Les instructions peuvent être, par exemple, copié-collé depuis une **cellule code** dans votre notebook (mais veillez à respecter les règles d'indentation!). -->\n",
    "<!--  -->\n",
    "<!-- L'extension pour les fichiers Python est `.py`. Écrivez ou copiez et collez les lignes suivantes dans un fichier appelé `test.py` -->\n",
    "<!--  -->\n",
    "<!-- !bc pycod-t -->\n",
    "<!-- chaine = 'Bonsoir' -->\n",
    "<!-- for lettre in chaine:  # lettre est la variable d'itération -->\n",
    "<!-- print(lettre) -->\n",
    "<!-- !ec -->\n",
    "<!--  -->\n",
    "<!-- Exécutons maintenant le script de manière interactive, à l'intérieur de l'interpréteur Ipython (cellule code du notebook). C'est peut-être l'utilisation la plus courante des scripts en calcul et simulation scientifique. -->\n",
    "<!--  -->\n",
    "<!-- !bnotice -->\n",
    "<!-- Dans la cellule *code* (Ipython), la syntaxe permettant d'exécuter un script est `%run script.py`. Par exemple: -->\n",
    "<!-- !enotice -->\n",
    "<!--  -->\n",
    "<!-- !bc pycod -->\n",
    "<!-- %run test.py -->\n",
    "<!-- !ec -->\n",
    "<!--  -->\n",
    "<!-- !bc pycod -->\n",
    "<!-- chaine -->\n",
    "<!-- !ec -->\n",
    "<!--  -->\n",
    "<!-- La syntaxe permettant de charger le contunu d'un script dans dans une cellule code est `%load script.py`. Par exemple: -->\n",
    "<!--  -->\n",
    "<!-- !bc pycod -->\n",
    "<!-- # %load test.py -->\n",
    "<!-- chaine = 'Bonsoir' -->\n",
    "<!-- for lettre in chaine:  # lettre est la variable d'itération -->\n",
    "<!-- print(lettre) -->\n",
    "<!-- !ec -->"
   ]
  }
 ],
 "metadata": {},
 "nbformat": 4,
 "nbformat_minor": 4
}
