{
 "cells": [
  {
   "cell_type": "markdown",
   "metadata": {},
   "source": [
    "# TD 2 : Instructions itératives\n",
    "\n",
    "**Ahmed Ammar - Institut Préparatoire aux Études Scientifiques et Techniques, Université de Carthage.**\n",
    "\n",
    "11 novembre 2020"
   ]
  },
  {
   "cell_type": "markdown",
   "metadata": {},
   "source": [
    "## Exercice 1 : Calculer $\\pi$ (boucle for)\n",
    "\n",
    "Tout au long de l'histoire, les grands esprits ont développé différents schémas de calcul pour le nombre $\\pi$. Nous allons ici considérer deux de ces schémas, l'un de Leibniz (1646-1716) et l'autre d'Euler\n",
    "(1707-1783).\n",
    "\n",
    "Le schéma de Leibniz peut être écrit\n",
    "$$\\pi = 8\\sum_{k=0}^{\\infty}\\frac{1}{(4k + 1)(4k + 3)} ,$$ tandis qu'une\n",
    "forme du schéma d'Euler peut apparaître comme\n",
    "$$\\pi = \\sqrt[]{6\\sum_{k=1}^{\\infty}\\frac{1}{k^2}} .$$ Si seuls les N premiers termes de chaque somme sont utilisés comme approximation de $\\pi$, chaque schéma modifié aura calculé $\\pi$ avec une certaine erreur.\n",
    "En utilisant des boucles `for` :\n",
    "\n",
    "**a)** Écrivez un programme qui prend N comme entrée de l'utilisateur et calcule la valeur de $\\pi$ avec les deux schémas. Exécutez le programme avec N = 100.\n",
    "\n",
    "**b)** Votre programme doit également imprimer l'erreur finale obtenue avec les deux schémas, c'est-à-dire lorsque le nombre de termes est N.\n"
   ]
  },
  {
   "cell_type": "code",
   "execution_count": null,
   "metadata": {},
   "outputs": [],
   "source": [
    "# votre réponse ici.\n",
    "\n"
   ]
  },
  {
   "cell_type": "markdown",
   "metadata": {},
   "source": [
    "## Exercice 2 : Calculer $\\pi$ (boucle while)\n",
    "\n",
    "Refaire l'**Exercice 1**, mais en utilisant des boucles `while` cette fois-ci."
   ]
  },
  {
   "cell_type": "code",
   "execution_count": null,
   "metadata": {},
   "outputs": [],
   "source": [
    "# votre réponse ici.\n",
    "\n"
   ]
  },
  {
   "cell_type": "markdown",
   "metadata": {},
   "source": [
    "## Exercice 3 : Aire du rectangle par rapport au cercle\n",
    "Considérons un cercle et un rectangle. Le cercle a un rayon $r = 10.6$. Le rectangle a des côtés $a$ et $b$, mais seul $a$ est connu à l'avance. Soit $a = 1.3$ et écrire un programme qui utilise une boucle `while`\n",
    "pour trouver le plus grand entier $b$ possible qui donne une aire de rectangle plus petite que l'aire du cercle, mais aussi proche que possible de celle-ci. Exécuter le programme et confirmer qu'il donne la bonne réponse (qui est $b = 271$)."
   ]
  },
  {
   "cell_type": "code",
   "execution_count": null,
   "metadata": {},
   "outputs": [],
   "source": [
    "# votre réponse ici.\n",
    "\n"
   ]
  },
  {
   "cell_type": "markdown",
   "metadata": {},
   "source": [
    "## Exercice 4 : Graphisme en console\n",
    "Dans cet exercice, nous utilisons des boucles `for` imbriquées.\n",
    "\n",
    "**a)** Écrire un programme Python qui dessine dans la console le triangle\n",
    "suivant:\n",
    "\n",
    "```\n",
    "* \n",
    "* * \n",
    "* * * \n",
    "* * * * \n",
    "```"
   ]
  },
  {
   "cell_type": "code",
   "execution_count": null,
   "metadata": {},
   "outputs": [],
   "source": [
    "# votre réponse ici.\n",
    "\n"
   ]
  },
  {
   "cell_type": "markdown",
   "metadata": {},
   "source": [
    "**b)** Écrire un programme Python qui dessine dans la console la pyramide\n",
    "suivante:\n",
    "\n",
    "``` \n",
    "* \n",
    "* * \n",
    "* * * \n",
    "* * * * \n",
    "* * * * * \n",
    "* * * * \n",
    "* * * \n",
    "* * \n",
    "* \n",
    "```"
   ]
  },
  {
   "cell_type": "code",
   "execution_count": null,
   "metadata": {},
   "outputs": [],
   "source": [
    "# votre réponse ici.\n",
    "\n"
   ]
  }
 ],
 "metadata": {
  "kernelspec": {
   "display_name": "Python 3",
   "language": "python",
   "name": "python3"
  },
  "language_info": {
   "codemirror_mode": {
    "name": "ipython",
    "version": 3
   },
   "file_extension": ".py",
   "mimetype": "text/x-python",
   "name": "python",
   "nbconvert_exporter": "python",
   "pygments_lexer": "ipython3",
   "version": "3.7.6"
  }
 },
 "nbformat": 4,
 "nbformat_minor": 4
}
